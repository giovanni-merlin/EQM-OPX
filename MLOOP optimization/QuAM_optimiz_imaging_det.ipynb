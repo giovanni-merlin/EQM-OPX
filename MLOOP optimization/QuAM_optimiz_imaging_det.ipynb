{
 "cells": [
  {
   "cell_type": "markdown",
   "metadata": {},
   "source": [
    "Script to optimize the fluorescence from single atom imaging.\\\n",
    "We use M-LOOP to feedback the information between the experiment and this computer, which controls the parameters to optimize.\\\n",
    "The input parameters are produced by M-LOOP in the file \"exp_input.txt\". This file is read by this script and the parameters passed as variables. Then the program is sent to OPX for execution: it waits the trigger from Logicbox. Then an image is produced, saved in \"Whitlock-PC\", has to be passed to this computer. Once it's in this computer, we evaluate the cost and produce the file \"exp_output\" which is read by M-LOOP: it applies the opimization algorithm specified in the configuration file and produces a new \"exp_input\" file. The loop is closed.\n",
    "\n",
    "So we have two files that work together: one for control and a second one that reads the received image and evaluates the cost."
   ]
  },
  {
   "cell_type": "code",
   "execution_count": null,
   "metadata": {},
   "outputs": [
    {
     "name": "stdout",
     "output_type": "stream",
     "text": [
      "2024-12-06 14:27:52,206 - qm - INFO     - Starting session: a1716dce-5493-4b92-a90b-195097014023\n"
     ]
    }
   ],
   "source": [
    "from qm.qua import *\n",
    "from qm import QuantumMachinesManager, SimulationConfig\n",
    "from quam.components import BasicQuAM, SingleChannel\n",
    "from quam.components.pulses import SquarePulse\n",
    "from qualang_tools.units import unit\n",
    "from QuAM_utilities import *\n",
    "\n",
    "import os\n",
    "import matplotlib.pyplot as plt\n",
    "from matplotlib import patches\n",
    "import time\n",
    "from watchdog.observers import Observer\n",
    "from watchdog.events import FileSystemEventHandler, PatternMatchingEventHandler\n",
    "import numpy as np\n",
    "from numpy import array\n",
    "from astropy.io import fits\n",
    "\n",
    "u = unit()"
   ]
  },
  {
   "cell_type": "code",
   "execution_count": 2,
   "metadata": {},
   "outputs": [],
   "source": [
    "# silence the warnings?\n",
    "import warnings\n",
    "warnings.filterwarnings(\"ignore\")\n",
    "\n",
    "from IPython.display import clear_output"
   ]
  },
  {
   "cell_type": "code",
   "execution_count": 3,
   "metadata": {},
   "outputs": [
    {
     "name": "stdout",
     "output_type": "stream",
     "text": [
      "2024-12-06 14:27:55,264 - qm - INFO     - Performing health check\n",
      "2024-12-06 14:27:55,276 - qm - INFO     - Health check passed\n"
     ]
    }
   ],
   "source": [
    "ip_address = '130.79.148.167'\n",
    "qmm = QuantumMachinesManager(host=ip_address)"
   ]
  },
  {
   "cell_type": "markdown",
   "metadata": {},
   "source": [
    "Configure the machine: define the channels and associate the pulses"
   ]
  },
  {
   "cell_type": "code",
   "execution_count": 4,
   "metadata": {},
   "outputs": [],
   "source": [
    "machine = BasicQuAM()\n",
    "\n",
    "# AOM RFs\n",
    "cool_double_rf = 200*u.MHz\n",
    "repump_double_rf = 200*u.MHz\n",
    "\n",
    "# TWEEZER LOADING\n",
    "tweez_central_freq = 74.9*u.MHz\n",
    "tweez_difference_freq = 15*u.MHz\n",
    "tweez_low_freq = tweez_central_freq - tweez_difference_freq/2\n",
    "tweez_high_freq = tweez_central_freq + tweez_difference_freq/2\n",
    "\n",
    "tweez_ramp_amplitude = 0.07\n",
    "tweez_ramp_time = 100*u.ms #50*u.us #\n",
    "tweez_plateau_amplitude = tweez_ramp_amplitude\n",
    "tweez_plateau_time = 150.15*u.ms #50*u.us #\n",
    "\n",
    "# GAP 1\n",
    "gap1_time = 5*u.ms #200*u.ns#\n",
    "\n",
    "# COLLISION\n",
    "coll_time = 100*u.ms #100*u.us #\n",
    "tweez_square_amplitude_coll = 0.1\n",
    "repump_square_amplitude_coll_double = 0.38 # fixed\n",
    "cool_square_amplitude_coll_double = 0.38 # fixed\n",
    "coll_modulation_frequency = 1.7*u.MHz\n",
    "tweez_duty_cycle = 0.4 # high fraction for tweezer\n",
    "rc_duty_cycle = 0.3 # high fraction for repumper and cooler\n",
    "rc_delay_fraction = 0.05 # delay for repumper and cooler (fraction of period) \n",
    "                        # the sum of the repumper/cooler duty cycles must be less than 1\n",
    "\n",
    "# GAP 2\n",
    "gap2_time = 5*u.ms #20*u.us #\n",
    "# look if after this we have an intrinsic delay of 35 ns?\n",
    "\n",
    "# IMAGING\n",
    "# the duty cycle parameters are the same as for collision\n",
    "imag_time = 200*u.ms #80*u.us #\n",
    "tweez_square_amplitude_imag = 0.15\n",
    "repump_square_amplitude_imag_double = 0.38 # fixed\n",
    "cool_square_amplitude_imag_double = 0.38 # fixed\n",
    "\n",
    "#coll_time_single_pass = gap1_time + coll_time\n",
    "#imag_time_single_pass = gap2_time + imag_time\n",
    "\n",
    "# DELAY FOR IMAGING\n",
    "delay_imaging_time = 350.15*u.ms #20*u.us #\n",
    "\n",
    "# FOR CONTINUOUSLY DRIVEN AOMs: cooler/repumper single pass & two spots tweezers\n",
    "# this is for amplitude modulation\n",
    "continuous_time = 50*u.ms\n",
    "continuous_time_long_pulse = tweez_ramp_time + tweez_plateau_time + gap1_time + coll_time + gap2_time + imag_time + delay_imaging_time + imag_time + 50*u.ms\n",
    "# continuous_time_long_pulse = 1*u.s\n",
    "\n",
    "# collision\n",
    "repump_square_amplitude_coll_single = 0.07 #0.05\n",
    "cool_square_amplitude_coll_single = 0.1 #0.07\n",
    "\n",
    "# imaging\n",
    "repump_square_amplitude_imag_single = 0.09\n",
    "cool_square_amplitude_imag_single = 0.08\n",
    "spot_amplitude1 = 0.38 # fixed\n",
    "spot_amplitude2 = 0.38 # fixed "
   ]
  },
  {
   "cell_type": "code",
   "execution_count": 5,
   "metadata": {},
   "outputs": [
    {
     "name": "stdout",
     "output_type": "stream",
     "text": [
      "\n",
      " Number of steps for the tweezer ramp: 2500000, each of 40.0 ns\n",
      "Number of plateau portions: 15015\n",
      "Number of collision periods: 170000\n",
      "Number of imaging periods: 340000 \n",
      "\n",
      "Low duration for tweezer: 352ns\n",
      "High duration for tweezer: 236ns\n",
      "Total: 588ns \n",
      "\n",
      "Delay duration for repumper/cooler: 28ns\n",
      "High duration for repumper/cooler: 176ns\n",
      "Low duration for repumper/cooler: 384ns\n",
      "Total: 588ns \n",
      "\n"
     ]
    }
   ],
   "source": [
    "# additional dependent variables useful for pulse definition\n",
    "# NB: the time durations must be multiples of the clock cycle!\n",
    "\n",
    "# these are not used in the function, but are printed for debug\n",
    "tweez_ramp_step_time = 40*u.ns\n",
    "n_steps = round(tweez_ramp_time/tweez_ramp_step_time)\n",
    "plateau_intermediate_duration = 10*u.us # prone to bug: this must be an integer of plateau_duration # INSIDE THE FUNCTION, AS AN ARGUMENT?\n",
    "plateau_num_portions = round(tweez_plateau_time/plateau_intermediate_duration) #INSIDE THE FUNCTION\n",
    "\n",
    "# these are in seconds, multiply by u.s before passing as arguments\n",
    "coll_modulation_period = 1/coll_modulation_frequency\n",
    "tweez_high_time = 1/coll_modulation_frequency*tweez_duty_cycle\n",
    "tweez_low_time = 1/coll_modulation_frequency*(1-tweez_duty_cycle)\n",
    "rc_high_time = 1/coll_modulation_frequency*rc_duty_cycle\n",
    "rc_delay_time = 1/coll_modulation_frequency*rc_delay_fraction\n",
    "rc_low_time = coll_modulation_period-rc_delay_time-rc_high_time\n",
    "number_of_periods_collision = round(coll_time/(coll_modulation_period*u.s)) # used as argument\n",
    "\n",
    "imag_modulation_period = coll_modulation_period\n",
    "\n",
    "number_of_periods_imaging = round(imag_time/(imag_modulation_period*u.s)) # used as argument\n",
    "\n",
    "# for debugging\n",
    "print(f\"\\n Number of steps for the tweezer ramp: {n_steps}, each of {tweez_ramp_step_time} ns\")\n",
    "print(f\"Number of plateau portions: {plateau_num_portions}\")\n",
    "print(\"Number of collision periods:\", number_of_periods_collision)\n",
    "print(\"Number of imaging periods:\", number_of_periods_imaging, \"\\n\")\n",
    "print(f\"Low duration for tweezer: {round(tweez_low_time*u.s/4)*4}ns\")\n",
    "print(f\"High duration for tweezer: {round(tweez_high_time*u.s/4)*4}ns\")\n",
    "print(f\"Total: {round(tweez_low_time*1e9/4)*4 + round(tweez_high_time*u.s/4)*4}ns \\n\")\n",
    "print(f\"Delay duration for repumper/cooler: {round(rc_delay_time*u.s/4)*4}ns\")\n",
    "print(f\"High duration for repumper/cooler: {round(rc_high_time*u.s/4)*4}ns\")\n",
    "print(f\"Low duration for repumper/cooler: {round(rc_low_time*u.s/4)*4}ns\")\n",
    "print(f\"Total: {round(rc_delay_time*u.s/4)*4 + round(rc_low_time*u.s/4)*4 + round(rc_high_time*u.s/4)*4}ns \\n\")\n"
   ]
  },
  {
   "cell_type": "markdown",
   "metadata": {},
   "source": [
    "Configure the machine: define the channels and add the pulses"
   ]
  },
  {
   "cell_type": "code",
   "execution_count": 6,
   "metadata": {},
   "outputs": [],
   "source": [
    "machine.channels['AOM_single_repumper'] = AOM_single_repumper = SingleChannel(opx_output=('con1', 1), intermediate_frequency=200e6)\n",
    "machine.channels['AOM_double_repumper'] = AOM_double_repumper = SingleChannel(opx_output=('con1', 2), intermediate_frequency=repump_double_rf)\n",
    "machine.channels['AOM_single_cooler'] = AOM_single_cooler = SingleChannel(opx_output=('con1', 3), intermediate_frequency=200e6)\n",
    "machine.channels['AOM_double_cooler'] = AOM_double_cooler = SingleChannel(opx_output=('con1', 4), intermediate_frequency=cool_double_rf)\n",
    "machine.channels['AOM_tweez_mod'] = AOM_tweez_mod = SingleChannel(opx_output=('con1', 5), intermediate_frequency=89.161e6) # for tweezer modulation\n",
    "machine.channels['AOM_tweez_spots1'] = AOM_tweez_spots1 = SingleChannel(opx_output=('con1', 6), intermediate_frequency=tweez_high_freq) # first component for generating two spots\n",
    "machine.channels['AOM_tweez_spots2'] = AOM_tweez_spots2 = SingleChannel(opx_output=('con1', 6), intermediate_frequency=tweez_low_freq) # second component for generating two spots\n",
    "\n",
    "AOM_single_repumper.operations['repump_continuous_coll'] = SquarePulse(length=round(continuous_time/4)*4, amplitude=repump_square_amplitude_coll_single)\n",
    "AOM_single_repumper.operations['repump_continuous_imag'] = repump_continuous_imag = SquarePulse(length=round(continuous_time/4)*4, amplitude=repump_square_amplitude_imag_single)\n",
    "AOM_single_cooler.operations['cool_continuous_coll'] = SquarePulse(length=round(continuous_time/4)*4, amplitude=cool_square_amplitude_coll_single)\n",
    "AOM_single_cooler.operations['cool_continuous_imag'] = cool_continuous_imag = SquarePulse(length=round(continuous_time/4)*4, amplitude=cool_square_amplitude_imag_single)\n",
    "\n",
    "AOM_double_repumper.operations['repump_high_pulse_coll'] = SquarePulse(length=round(rc_high_time*u.s/4)*4, amplitude=repump_square_amplitude_coll_double)\n",
    "AOM_double_repumper.operations['repump_high_pulse_imag'] = SquarePulse(length=round(rc_high_time*u.s/4)*4, amplitude=repump_square_amplitude_imag_double)\n",
    "AOM_double_repumper.operations['repump_low_pulse'] = SquarePulse(length=round(rc_low_time*u.s/4)*4, amplitude=0)\n",
    "AOM_double_cooler.operations['cool_high_pulse_coll'] = SquarePulse(length=round(rc_high_time*u.s/4)*4, amplitude=cool_square_amplitude_coll_double)\n",
    "AOM_double_cooler.operations['cool_high_pulse_imag'] = SquarePulse(length=round(rc_high_time*u.s/4)*4, amplitude=cool_square_amplitude_imag_double)\n",
    "AOM_double_cooler.operations['cool_low_pulse'] = cool_low_pulse = SquarePulse(length=round(rc_low_time*u.s/4)*4, amplitude=0)\n",
    "\n",
    "AOM_tweez_mod.operations['tweez_step_pulse'] = tweez_step_pulse = SquarePulse(length=round(tweez_ramp_step_time/4)*4, amplitude=tweez_ramp_amplitude) \n",
    "AOM_tweez_mod.operations['tweez_plateau_pulse'] = SquarePulse(length=100, amplitude=tweez_plateau_amplitude) # this value is overridden by the time/slice value\n",
    "AOM_tweez_mod.operations['tweez_high_pulse_coll'] = SquarePulse(length=round(tweez_high_time*u.s/4)*4, amplitude=tweez_square_amplitude_coll)\n",
    "AOM_tweez_mod.operations['tweez_high_pulse_imag'] = SquarePulse(length=round(tweez_high_time*u.s/4)*4, amplitude=tweez_square_amplitude_imag)\n",
    "AOM_tweez_mod.operations['tweez_low_pulse'] = SquarePulse(length=round(tweez_low_time*u.s/4)*4, amplitude=0)\n",
    "AOM_tweez_spots1.operations['tweez_continuous'] = SquarePulse(length=round(continuous_time/4)*4, amplitude=spot_amplitude1)\n",
    "AOM_tweez_spots2.operations['tweez_continuous'] = SquarePulse(length=round(continuous_time/4)*4, amplitude=spot_amplitude2)"
   ]
  },
  {
   "cell_type": "code",
   "execution_count": null,
   "metadata": {},
   "outputs": [],
   "source": [
    "# for debug\n",
    "machine.channels['AOM_debug_repumper'] = AOM_debug_repumper = SingleChannel(opx_output=('con1', 7), intermediate_frequency=0)\n",
    "machine.channels['AOM_debug_tweez_spots1'] = AOM_debug_tweez_spots1 = SingleChannel(opx_output=('con1', 8), intermediate_frequency=tweez_high_freq)\n",
    "machine.channels['AOM_debug_tweez_spots2'] = AOM_debug_tweez_spots2 = SingleChannel(opx_output=('con1', 8), intermediate_frequency=tweez_low_freq)\n",
    "\n",
    "\n",
    "AOM_debug_repumper.operations['repump_high_pulse_imag'] = SquarePulse(length=round(rc_high_time*u.s/4)*4, amplitude=repump_square_amplitude_imag_double)\n",
    "AOM_debug_repumper.operations['repump_low_pulse'] = SquarePulse(length=round(rc_low_time*u.s/4)*4, amplitude=0)\n",
    "AOM_debug_tweez_spots1.operations['tweez_continuous'] = SquarePulse(length=round(continuous_time/4)*4, amplitude=spot_amplitude1)\n",
    "AOM_debug_tweez_spots2.operations['tweez_continuous'] = SquarePulse(length=round(continuous_time/4)*4, amplitude=spot_amplitude2)"
   ]
  },
  {
   "cell_type": "code",
   "execution_count": 7,
   "metadata": {},
   "outputs": [
    {
     "data": {
      "text/plain": [
       "0.38"
      ]
     },
     "execution_count": 7,
     "metadata": {},
     "output_type": "execute_result"
    }
   ],
   "source": [
    "AOM_double_cooler.operations['cool_high_pulse_imag'].amplitude"
   ]
  },
  {
   "cell_type": "code",
   "execution_count": 8,
   "metadata": {},
   "outputs": [],
   "source": [
    "qua_config = machine.generate_config()"
   ]
  },
  {
   "cell_type": "markdown",
   "metadata": {},
   "source": [
    "Write the QUA program"
   ]
  },
  {
   "cell_type": "markdown",
   "metadata": {},
   "source": [
    "#### Example of the use of input streams\n",
    "Input streams allow passing data from the client computer to a *running* job (QUA program). This might be useful during the optimization of parameters such as the *detuning* (which is controlled using update_frequency_) and possibly the *amplitude* (in this case I'm not sure actually, because it has to be multiplied by amp(v), which can take values in [-2,2]). See the guide for dynamical variation of the amplitude. \n",
    "\n",
    "The fundamental commands are:\\\n",
    "`declare_input_stream()`: declare a qua variable or vector to be used as an input stream to the qua program (is inside the program). Has all the params of a qua variable.\\\n",
    "`push_to_input_stream()`: used outside the program, is used to pass value from the job api to the qua program. It is a method of the job object.\\\n",
    "`advance_input_stream()`: inside the program, is used to access the next available data. *NB: if there is no available data, this command will pause OPX and wait until next data is available! It is critical were to put it!*\n",
    "\n",
    "E.g.\n",
    "```python \n",
    "with program() as example_input_stream:\n",
    "    truth_table = declare_input_stream(bool, name='truth_table_input_stream', size=10)\n",
    "    tau = declare_input_stream(int, name='tau_input_stream')\n",
    "    ...\n",
    "    with while_(some_qua_cond):\n",
    "        advance_input_stream(tau)\n",
    "        advance_input_stream(truth_table)\n",
    "        play('operation', 'element0', duration=tau, condition=truth_table[0])\n",
    "        play('operation', 'element1', duration=tau, condition=truth_table[1])\n",
    "        play('operation', 'element2', duration=tau, condition=truth_table[2])\n",
    "        ...\n",
    "    ...\n",
    "\n",
    "...\n",
    "job = qm.execute(example_input_stream)\n",
    "...\n",
    "while some_cond:\n",
    "    qubit_states = read_from_external_device()\n",
    "    calc_tau = calculate_tau()\n",
    "    job.push_to_input_stream('truth_table_input_stream', qubit_states)\n",
    "    job.push_to_input_stream('tau_input_stream', calc_tau)\n",
    "```"
   ]
  },
  {
   "cell_type": "code",
   "execution_count": 10,
   "metadata": {},
   "outputs": [],
   "source": [
    "with program() as det_optimization_streams:\n",
    "    input_cool_double_rf = declare_input_stream(int, name='cool_double_rf_input_stream') # NB: check the type of the input\n",
    "    input_repump_double_rf = declare_input_stream(int, name='repump_double_rf_input_stream')\n",
    "\n",
    "    with infinite_loop_():\n",
    "\n",
    "        AOM_tweez_spots1.play(\"tweez_continuous\")\n",
    "        AOM_tweez_spots2.play(\"tweez_continuous\")\n",
    "        \n",
    "    with infinite_loop_():\n",
    "        # might stop the whole program when it returns to a new loop if no data is passed. See more carefully the documentation\n",
    "        # might be a problem for the single pass?\n",
    "        advance_input_stream(input_cool_double_rf)\n",
    "        advance_input_stream(input_repump_double_rf)\n",
    "        assign(IO1, input_cool_double_rf)\n",
    "        assign(IO2, input_repump_double_rf)\n",
    "        \n",
    "        update_frequency('AOM_double_cooler', 200e6, keep_phase=True)\n",
    "        update_frequency('AOM_double_repumper', 200e6, keep_phase=True)\n",
    "\n",
    "        wait_for_trigger('AOM_tweez_mod') \n",
    "        wait_for_trigger('AOM_double_repumper')\n",
    "        wait_for_trigger('AOM_double_cooler')\n",
    "        wait_for_trigger('AOM_single_repumper')\n",
    "        wait_for_trigger('AOM_single_cooler')\n",
    "\n",
    "        # long_pulse('tweez_continuous', 'AOM_tweez_spots1', continuous_time_long_pulse)\n",
    "        # long_pulse('tweez_continuous', 'AOM_tweez_spots2', continuous_time_long_pulse)\n",
    "\n",
    "        # atoms loading\n",
    "        long_ramp('tweez_step_pulse', 'AOM_tweez_mod', tweez_ramp_time)\n",
    "        long_pulse('tweez_plateau_pulse', 'AOM_tweez_mod', tweez_plateau_time)\n",
    "        align('AOM_tweez_mod', 'AOM_double_cooler', 'AOM_double_repumper','AOM_single_cooler','AOM_single_repumper','AOM_debug_repumper')\n",
    "\n",
    "        # gap1\n",
    "        play('tweez_step_pulse', 'AOM_tweez_mod', duration=round(gap1_time/4))\n",
    "        play('cool_low_pulse', 'AOM_double_cooler', duration=round(gap1_time/4))\n",
    "        play('repump_low_pulse', 'AOM_double_repumper', duration=round(gap1_time/4))\n",
    "        play('repump_low_pulse', 'AOM_debug_repumper', duration=round(gap1_time/4))\n",
    "\n",
    "        # long_pulse('cool_continuous_coll', 'AOM_single_cooler', gap1_time)\n",
    "        # long_pulse('repump_continuous_coll', 'AOM_single_repumper', gap1_time)\n",
    "\n",
    "        long_pulse('cool_continuous_coll', 'AOM_single_cooler', gap1_time + coll_time) # try to change\n",
    "        long_pulse('repump_continuous_coll', 'AOM_single_repumper', gap1_time + coll_time)\n",
    "\n",
    "        # collision\n",
    "        stroboscopic(('tweez_low_pulse','tweez_high_pulse_coll'), 'AOM_tweez_mod', number_of_periods_collision)\n",
    "        stroboscopic(('cool_high_pulse_coll','cool_low_pulse'), 'AOM_double_cooler', number_of_periods_collision, rc_delay_time)\n",
    "        stroboscopic(('repump_high_pulse_coll','repump_low_pulse'), 'AOM_double_repumper', number_of_periods_collision, rc_delay_time)\n",
    "        stroboscopic(('repump_high_pulse_imag','repump_low_pulse'), 'AOM_debug_repumper', number_of_periods_collision, rc_delay_time)\n",
    "\n",
    "        update_frequency('AOM_double_cooler', input_cool_double_rf, keep_phase=True)\n",
    "        update_frequency('AOM_double_repumper', input_repump_double_rf, keep_phase=True)\n",
    "\n",
    "        # gap2\n",
    "        play('tweez_high_pulse_imag', 'AOM_tweez_mod', duration=round(gap2_time/4))\n",
    "        play('cool_low_pulse', 'AOM_double_cooler', duration=round(gap2_time/4))\n",
    "        play('repump_low_pulse', 'AOM_double_repumper', duration=round(gap2_time/4))\n",
    "        play('repump_low_pulse', 'AOM_debug_repumper', duration=round(gap2_time/4))\n",
    "\n",
    "        long_pulse('cool_continuous_imag', 'AOM_single_cooler', gap2_time + imag_time) # try to change\n",
    "        long_pulse('repump_continuous_imag', 'AOM_single_repumper', gap2_time + imag_time)\n",
    "\n",
    "        # imaging\n",
    "        stroboscopic(('tweez_low_pulse','tweez_high_pulse_imag'), 'AOM_tweez_mod', number_of_periods_imaging)\n",
    "        stroboscopic(('repump_high_pulse_imag','repump_low_pulse'), 'AOM_double_repumper', number_of_periods_imaging, rc_delay_time)\n",
    "        stroboscopic(('cool_high_pulse_imag','cool_low_pulse'), 'AOM_double_cooler', number_of_periods_imaging, rc_delay_time)\n",
    "        stroboscopic(('repump_high_pulse_imag','repump_low_pulse'), 'AOM_debug_repumper', number_of_periods_imaging, rc_delay_time)\n",
    "\n",
    "        # delay for image\n",
    "        long_pulse('tweez_high_pulse_imag', 'AOM_tweez_mod', delay_imaging_time)\n",
    "        long_pulse('cool_low_pulse', 'AOM_double_cooler', delay_imaging_time)\n",
    "        long_pulse('repump_low_pulse', 'AOM_double_repumper', delay_imaging_time)\n",
    "        long_pulse('repump_low_pulse', 'AOM_debug_repumper', delay_imaging_time)\n",
    "\n",
    "        long_pulse('cool_continuous_imag', 'AOM_single_cooler', delay_imaging_time + imag_time) # try to change\n",
    "        long_pulse('repump_continuous_imag', 'AOM_single_repumper', delay_imaging_time + imag_time)\n",
    "        \n",
    "        #align('AOM_tweez_mod', 'AOM_double_cooler', 'AOM_double_repumper', 'AOM_single_cooler', 'AOM_single_repumper')\n",
    "        \n",
    "        # imaging\n",
    "        stroboscopic(('tweez_low_pulse','tweez_high_pulse_imag'), 'AOM_tweez_mod', number_of_periods_imaging)\n",
    "        stroboscopic(('cool_high_pulse_imag','cool_low_pulse'), 'AOM_double_cooler', number_of_periods_imaging, rc_delay_time)\n",
    "        stroboscopic(('repump_high_pulse_imag','repump_low_pulse'), 'AOM_double_repumper', number_of_periods_imaging, rc_delay_time)\n",
    "        stroboscopic(('repump_high_pulse_imag','repump_low_pulse'), 'AOM_debug_repumper', number_of_periods_imaging, rc_delay_time)\n",
    "        \n",
    "        pause()"
   ]
  },
  {
   "cell_type": "code",
   "execution_count": 11,
   "metadata": {},
   "outputs": [],
   "source": [
    "class StreamsHandler(PatternMatchingEventHandler):\n",
    "    def __init__(self, patterns, qm, opx_job):\n",
    "        super().__init__(patterns=patterns, ignore_directories=True)\n",
    "        self.qm = qm\n",
    "        self.job = opx_job\n",
    "\n",
    "    def on_created(self, event):\n",
    "        # this functoin is called whenever a new \"pattern\" file is created\n",
    "        \n",
    "        clear_output(wait=True)\n",
    "        print(f\"Processing file: {event.src_path}\")\n",
    "        time.sleep(0.2) # wait for M-LOOP to write the file\n",
    "        with open(event.src_path, 'r') as file:\n",
    "            line = file.readline().strip()\n",
    "            new_parameters = np.array(eval(line.split('=')[1].strip())) # take the argument after the \"=\" and evaluate the string as python variable\n",
    "        print(\"The Dog has watched:\", new_parameters) # for debugging\n",
    "\n",
    "        cool_double_rf_imag, repump_double_rf_imag = new_parameters\n",
    "        self.job.push_to_input_stream('cool_double_rf_input_stream', int(cool_double_rf_imag))\n",
    "        self.job.push_to_input_stream('repump_double_rf_input_stream', int(repump_double_rf_imag))\n",
    "        print(\"New cooler frequency:\", self.qm.get_io1_value())\n",
    "        print(\"New repumper frequency:\", self.qm.get_io2_value())\n",
    "        self.job.resume()\n",
    "        \n",
    "        os.remove(event.src_path)\n",
    "        #print(\"New values:\")\n",
    "        #print(f\" cooler frequency: {cool_double_rf_imag}\")\n",
    "        #print(f\" repumper frequency: {repump_double_rf_imag}\")"
   ]
  },
  {
   "cell_type": "code",
   "execution_count": 12,
   "metadata": {},
   "outputs": [
    {
     "name": "stdout",
     "output_type": "stream",
     "text": [
      "Processing file: C:\\Users\\EQM\\Giovanni\\OPXsetup\\OPX_EQM\\Optimization\\imaging_parameters\\exp_input.txt\n",
      "The Dog has watched: [2.01269805e+08 1.98421500e+08]\n",
      "New cooler frequency: {'io_number': 1, 'int_value': 0, 'fixed_value': 0.0, 'boolean_value': False}\n",
      "New repumper frequency: {'io_number': 2, 'int_value': 0, 'fixed_value': 0.0, 'boolean_value': False}\n"
     ]
    }
   ],
   "source": [
    "# get the parameters from the exp_input file \n",
    "path_to_watch = r\"C:\\Users\\EQM\\Giovanni\\OPXsetup\\OPX_EQM\\Optimization\\imaging_parameters\"\n",
    "pattern = 'exp_input.txt'\n",
    "\n",
    "if __name__ == '__main__':\n",
    "    qm = qmm.open_qm(qua_config)\n",
    "    job = qm.execute(det_optimization_streams)\n",
    "    observer = Observer()\n",
    "    event_handler = StreamsHandler(patterns=[pattern], qm=qm, opx_job = job)\n",
    "    observer.schedule(event_handler, path=path_to_watch, recursive=True)\n",
    "    observer.start()\n",
    "\n",
    "    try:\n",
    "        while True:\n",
    "            time.sleep(1)\n",
    "    except KeyboardInterrupt:\n",
    "        observer.stop()\n",
    "    observer.join()"
   ]
  },
  {
   "cell_type": "code",
   "execution_count": null,
   "metadata": {},
   "outputs": [],
   "source": []
  },
  {
   "cell_type": "markdown",
   "metadata": {},
   "source": [
    "Look at the reurned dictionary. Why are the values wrong?"
   ]
  },
  {
   "cell_type": "code",
   "execution_count": null,
   "metadata": {},
   "outputs": [],
   "source": [
    "qm.close()\n",
    "# qm.compile(det_optimization)"
   ]
  }
 ],
 "metadata": {
  "kernelspec": {
   "display_name": "eqm-lab",
   "language": "python",
   "name": "python3"
  },
  "language_info": {
   "codemirror_mode": {
    "name": "ipython",
    "version": 3
   },
   "file_extension": ".py",
   "mimetype": "text/x-python",
   "name": "python",
   "nbconvert_exporter": "python",
   "pygments_lexer": "ipython3",
   "version": "3.10.11"
  }
 },
 "nbformat": 4,
 "nbformat_minor": 2
}
