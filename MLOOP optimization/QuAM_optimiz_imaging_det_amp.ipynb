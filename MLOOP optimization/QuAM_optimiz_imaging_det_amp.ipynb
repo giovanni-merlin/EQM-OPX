{
 "cells": [
  {
   "cell_type": "markdown",
   "metadata": {},
   "source": [
    "Script to optimize the fluorescence from single atom imaging.\\\n",
    "We use M-LOOP to feedback the information between the experiment and this computer, which controls the parameters to optimize.\\\n",
    "The input parameters are produced by M-LOOP in the file \"exp_input.txt\". This file is read by this script and the parameters passed as variables. Then the program is sent to OPX for execution: it waits the trigger from Logicbox. Then an image is produced, saved in \"Whitlock-PC\", has to be passed to this computer. Once it's in this computer, we evaluate the cost and produce the file \"exp_output\" which is read by M-LOOP: it applies the opimization algorithm specified in the configuration file and produces a new \"exp_input\" file. The loop is closed.\n",
    "\n",
    "So we have two files that work together: one for control and a second one that reads the received image and evaluates the cost."
   ]
  },
  {
   "cell_type": "markdown",
   "metadata": {},
   "source": [
    "NB: the delay time for r/c has to be adjusted here wrt the script without the parameters optimization, due to some delay which is introduced in the chanels (to be investigated). In particular, the value of 0.65 seems to work very well: we obtain very high fluorescence signal (some atoms) with the same power and collision time that give single atoms!\n",
    "\n",
    "TODO: insert a \"Bad\" flag in exp_output.txt if optimization loop is stuck"
   ]
  },
  {
   "cell_type": "code",
   "execution_count": 617,
   "metadata": {},
   "outputs": [],
   "source": [
    "from qm.qua import *\n",
    "from qm import QuantumMachinesManager, SimulationConfig\n",
    "from quam.components import BasicQuAM, SingleChannel\n",
    "from quam.components.pulses import SquarePulse\n",
    "from qualang_tools.units import unit\n",
    "from QuAM_utilities import *\n",
    "\n",
    "import time\n",
    "import os\n",
    "import matplotlib.pyplot as plt\n",
    "from watchdog.observers import Observer\n",
    "from watchdog.events import FileSystemEventHandler, PatternMatchingEventHandler\n",
    "import numpy as np\n",
    "from numpy import array\n",
    "\n",
    "u = unit()"
   ]
  },
  {
   "cell_type": "code",
   "execution_count": 618,
   "metadata": {},
   "outputs": [],
   "source": [
    "# silence the warnings?\n",
    "import warnings\n",
    "warnings.filterwarnings(\"ignore\")\n",
    "\n",
    "from IPython.display import clear_output"
   ]
  },
  {
   "cell_type": "code",
   "execution_count": 619,
   "metadata": {},
   "outputs": [
    {
     "name": "stdout",
     "output_type": "stream",
     "text": [
      "2024-12-22 15:37:34,405 - qm - INFO     - Performing health check\n",
      "2024-12-22 15:37:34,412 - qm - INFO     - Health check passed\n"
     ]
    }
   ],
   "source": [
    "ip_address = '130.79.148.167'\n",
    "qmm = QuantumMachinesManager(host=ip_address)"
   ]
  },
  {
   "cell_type": "markdown",
   "metadata": {},
   "source": [
    "Configure the machine: define the channels and associate the pulses"
   ]
  },
  {
   "cell_type": "code",
   "execution_count": 620,
   "metadata": {},
   "outputs": [],
   "source": [
    "machine = BasicQuAM()\n",
    "\n",
    "# AOM RFs\n",
    "cool_double_rf = 200*u.MHz\n",
    "repump_double_rf = 195*u.MHz\n",
    "\n",
    "# TWEEZER LOADING\n",
    "tweez_central_freq = 75.1*u.MHz\n",
    "tweez_difference_freq = 15*u.MHz\n",
    "tweez_low_freq = tweez_central_freq - tweez_difference_freq/2\n",
    "tweez_high_freq = tweez_central_freq + tweez_difference_freq/2\n",
    "\n",
    "tweez_ramp_amplitude = 0.07\n",
    "tweez_ramp_time = 100*u.ms #50*u.us #\n",
    "tweez_plateau_amplitude = tweez_ramp_amplitude\n",
    "tweez_plateau_time = 150.15*u.ms #50*u.us #\n",
    "\n",
    "# GAP 1\n",
    "gap1_time = 5*u.ms #200*u.ns#\n",
    "\n",
    "# COLLISION\n",
    "coll_time = 180*u.ms #100*u.us #\n",
    "tweez_square_amplitude_coll = 0.15\n",
    "repump_square_amplitude_coll_double = 0.38 # fixed\n",
    "cool_square_amplitude_coll_double = 0.38 # fixed\n",
    "coll_modulation_frequency = 1.7*u.MHz\n",
    "tweez_duty_cycle = 0.4 # high fraction for tweezer\n",
    "rc_duty_cycle = 0.3 # high fraction for repumper and cooler\n",
    "rc_delay_fraction = 0.65 # delay for repumper and cooler (fraction of period) \n",
    "                        # the sum of the repumper/cooler duty cycles must be less than 1\n",
    "\n",
    "# GAP 2\n",
    "gap2_time = 5*u.ms #20*u.us #\n",
    "# look if after this we have an intrinsic delay of 35 ns?\n",
    "\n",
    "# IMAGING\n",
    "# the duty cycle parameters are the same as for collision\n",
    "imag_time = 40*u.ms #80*u.us #\n",
    "tweez_square_amplitude_imag = 0.15\n",
    "repump_square_amplitude_imag_double = 0.38 # fixed\n",
    "cool_square_amplitude_imag_double = 0.38 # fixed\n",
    "\n",
    "#coll_time_single_pass = gap1_time + coll_time\n",
    "#imag_time_single_pass = gap2_time + imag_time\n",
    "\n",
    "# DELAY FOR IMAGING\n",
    "delay_imaging_time = 250.15*u.ms #20*u.us #\n",
    "\n",
    "# FOR CONTINUOUSLY DRIVEN AOMs: cooler/repumper single pass & two spots tweezers\n",
    "# this is for amplitude modulation\n",
    "continuous_time = 50*u.ms #50*u.ms#\n",
    "continuous_time_long_pulse = tweez_ramp_time + tweez_plateau_time + gap1_time + coll_time + gap2_time + imag_time + delay_imaging_time + imag_time + 50*u.ms\n",
    "# continuous_time_long_pulse = 1*u.s\n",
    "\n",
    "# collision\n",
    "repump_square_amplitude_coll_single = 0.02 #0.02\n",
    "cool_square_amplitude_coll_single = 0.08 #0.05\n",
    "\n",
    "# imaging\n",
    "repump_square_amplitude_imag_single = 0.5 #0.04 #0.03 #0.5 is a placeholder in order to have always amp_mod<2 \n",
    "cool_square_amplitude_imag_single = 0.5 #0.08 #0.08\n",
    "spot_amplitude1 = 0.38 # fixed\n",
    "spot_amplitude2 = 0.38 # fixed "
   ]
  },
  {
   "cell_type": "code",
   "execution_count": 621,
   "metadata": {},
   "outputs": [
    {
     "name": "stdout",
     "output_type": "stream",
     "text": [
      "\n",
      " Number of steps for the tweezer ramp: 2500000, each of 40.0 ns\n",
      "Number of plateau portions: 15015\n",
      "Number of collision periods: 306000\n",
      "Number of imaging periods: 68000 \n",
      "\n",
      "Low duration for tweezer: 352ns\n",
      "High duration for tweezer: 236ns\n",
      "Total: 588ns \n",
      "\n",
      "Delay duration for repumper/cooler: 384ns\n",
      "High duration for repumper/cooler: 176ns\n",
      "Low duration for repumper/cooler: 28ns\n",
      "Total: 588ns \n",
      "\n"
     ]
    }
   ],
   "source": [
    "# additional dependent variables useful for pulse definition\n",
    "# NB: the time durations must be multiples of the clock cycle!\n",
    "\n",
    "# these are not used in the function, but are printed for debug\n",
    "tweez_ramp_step_time = 40*u.ns\n",
    "n_steps = round(tweez_ramp_time/tweez_ramp_step_time)\n",
    "plateau_intermediate_duration = 10*u.us # prone to bug: this must be an integer of plateau_duration # INSIDE THE FUNCTION, AS AN ARGUMENT?\n",
    "plateau_num_portions = round(tweez_plateau_time/plateau_intermediate_duration) #INSIDE THE FUNCTION\n",
    "\n",
    "# these are in seconds, multiply by u.s before passing as arguments\n",
    "coll_modulation_period = 1/coll_modulation_frequency\n",
    "tweez_high_time = 1/coll_modulation_frequency*tweez_duty_cycle\n",
    "tweez_low_time = 1/coll_modulation_frequency*(1-tweez_duty_cycle)\n",
    "rc_high_time = 1/coll_modulation_frequency*rc_duty_cycle\n",
    "rc_delay_time = 1/coll_modulation_frequency*rc_delay_fraction\n",
    "rc_low_time = coll_modulation_period-rc_delay_time-rc_high_time\n",
    "number_of_periods_collision = round(coll_time/(coll_modulation_period*u.s)) # used as argument\n",
    "\n",
    "imag_modulation_period = coll_modulation_period\n",
    "\n",
    "number_of_periods_imaging = round(imag_time/(imag_modulation_period*u.s)) # used as argument\n",
    "\n",
    "# for debugging\n",
    "print(f\"\\n Number of steps for the tweezer ramp: {n_steps}, each of {tweez_ramp_step_time} ns\")\n",
    "print(f\"Number of plateau portions: {plateau_num_portions}\")\n",
    "print(\"Number of collision periods:\", number_of_periods_collision)\n",
    "print(\"Number of imaging periods:\", number_of_periods_imaging, \"\\n\")\n",
    "print(f\"Low duration for tweezer: {round(tweez_low_time*u.s/4)*4}ns\")\n",
    "print(f\"High duration for tweezer: {round(tweez_high_time*u.s/4)*4}ns\")\n",
    "print(f\"Total: {round(tweez_low_time*1e9/4)*4 + round(tweez_high_time*u.s/4)*4}ns \\n\")\n",
    "print(f\"Delay duration for repumper/cooler: {round(rc_delay_time*u.s/4)*4}ns\")\n",
    "print(f\"High duration for repumper/cooler: {round(rc_high_time*u.s/4)*4}ns\")\n",
    "print(f\"Low duration for repumper/cooler: {round(rc_low_time*u.s/4)*4}ns\")\n",
    "print(f\"Total: {round(rc_delay_time*u.s/4)*4 + round(rc_low_time*u.s/4)*4 + round(rc_high_time*u.s/4)*4}ns \\n\")\n"
   ]
  },
  {
   "cell_type": "markdown",
   "metadata": {},
   "source": [
    "Configure the machine: define the channels and add the pulses"
   ]
  },
  {
   "cell_type": "code",
   "execution_count": 622,
   "metadata": {},
   "outputs": [],
   "source": [
    "machine.channels['AOM_single_repumper'] = AOM_single_repumper = SingleChannel(opx_output=('con1', 1), intermediate_frequency=200e6)\n",
    "machine.channels['AOM_double_repumper'] = AOM_double_repumper = SingleChannel(opx_output=('con1', 2), intermediate_frequency=repump_double_rf)\n",
    "machine.channels['AOM_single_cooler'] = AOM_single_cooler = SingleChannel(opx_output=('con1', 3), intermediate_frequency=200e6)\n",
    "machine.channels['AOM_double_cooler'] = AOM_double_cooler = SingleChannel(opx_output=('con1', 4), intermediate_frequency=cool_double_rf)\n",
    "machine.channels['AOM_tweez_mod'] = AOM_tweez_mod = SingleChannel(opx_output=('con1', 5), intermediate_frequency=89.161e6) # for tweezer modulation\n",
    "machine.channels['AOM_tweez_spots1'] = AOM_tweez_spots1 = SingleChannel(opx_output=('con1', 6), intermediate_frequency=tweez_high_freq) # first component for generating two spots\n",
    "machine.channels['AOM_tweez_spots2'] = AOM_tweez_spots2 = SingleChannel(opx_output=('con1', 6), intermediate_frequency=tweez_low_freq) # second component for generating two spots\n",
    "\n",
    "AOM_single_repumper.operations['repump_continuous_coll'] = SquarePulse(length=round(continuous_time/4)*4, amplitude=repump_square_amplitude_coll_single)\n",
    "AOM_single_repumper.operations['repump_continuous_imag'] = repump_continuous_imag = SquarePulse(length=round(continuous_time/4)*4, amplitude=repump_square_amplitude_imag_single)\n",
    "AOM_single_cooler.operations['cool_continuous_coll'] = SquarePulse(length=round(continuous_time/4)*4, amplitude=cool_square_amplitude_coll_single)\n",
    "AOM_single_cooler.operations['cool_continuous_imag'] = cool_continuous_imag = SquarePulse(length=round(continuous_time/4)*4, amplitude=cool_square_amplitude_imag_single)\n",
    "\n",
    "AOM_double_repumper.operations['repump_high_pulse_coll'] = SquarePulse(length=round(rc_high_time*u.s/4)*4, amplitude=repump_square_amplitude_coll_double)\n",
    "AOM_double_repumper.operations['repump_high_pulse_imag'] = SquarePulse(length=round(rc_high_time*u.s/4)*4, amplitude=repump_square_amplitude_imag_double)\n",
    "AOM_double_repumper.operations['repump_low_pulse'] = SquarePulse(length=round(rc_low_time*u.s/4)*4, amplitude=0)\n",
    "AOM_double_cooler.operations['cool_high_pulse_coll'] = SquarePulse(length=round(rc_high_time*u.s/4)*4, amplitude=cool_square_amplitude_coll_double)\n",
    "AOM_double_cooler.operations['cool_high_pulse_imag'] = SquarePulse(length=round(rc_high_time*u.s/4)*4, amplitude=cool_square_amplitude_imag_double)\n",
    "AOM_double_cooler.operations['cool_low_pulse'] = cool_low_pulse = SquarePulse(length=round(rc_low_time*u.s/4)*4, amplitude=0)\n",
    "\n",
    "AOM_tweez_mod.operations['tweez_step_pulse'] = tweez_step_pulse = SquarePulse(length=round(tweez_ramp_step_time/4)*4, amplitude=tweez_ramp_amplitude) \n",
    "AOM_tweez_mod.operations['tweez_plateau_pulse'] = SquarePulse(length=100, amplitude=tweez_plateau_amplitude) # this value is overridden by the time/slice value\n",
    "AOM_tweez_mod.operations['tweez_high_pulse_coll'] = SquarePulse(length=round(tweez_high_time*u.s/4)*4, amplitude=tweez_square_amplitude_coll)\n",
    "AOM_tweez_mod.operations['tweez_high_pulse_imag'] = SquarePulse(length=round(tweez_high_time*u.s/4)*4, amplitude=tweez_square_amplitude_imag)\n",
    "AOM_tweez_mod.operations['tweez_low_pulse'] = SquarePulse(length=round(tweez_low_time*u.s/4)*4, amplitude=0)\n",
    "AOM_tweez_spots1.operations['tweez_continuous'] = SquarePulse(length=round(continuous_time/4)*4, amplitude=spot_amplitude1)\n",
    "AOM_tweez_spots2.operations['tweez_continuous'] = SquarePulse(length=round(continuous_time/4)*4, amplitude=spot_amplitude2)"
   ]
  },
  {
   "cell_type": "code",
   "execution_count": 623,
   "metadata": {},
   "outputs": [],
   "source": [
    "# for debug\n",
    "machine.channels['AOM_debug_repumper'] = AOM_debug_repumper = SingleChannel(opx_output=('con1', 7), intermediate_frequency=0)\n",
    "machine.channels['AOM_debug_tweez_spots1'] = AOM_debug_tweez_spots1 = SingleChannel(opx_output=('con1', 8), intermediate_frequency=tweez_high_freq)\n",
    "machine.channels['AOM_debug_tweez_spots2'] = AOM_debug_tweez_spots2 = SingleChannel(opx_output=('con1', 8), intermediate_frequency=tweez_low_freq)\n",
    "\n",
    "AOM_debug_repumper.operations['repump_high_pulse_imag'] = SquarePulse(length=round(rc_high_time*u.s/4)*4, amplitude=repump_square_amplitude_imag_double)\n",
    "AOM_debug_repumper.operations['repump_low_pulse'] = SquarePulse(length=round(rc_low_time*u.s/4)*4, amplitude=0)\n",
    "AOM_debug_repumper.operations['repump_continuous'] = SquarePulse(length=round(continuous_time/4)*4, amplitude=repump_square_amplitude_imag_single)\n",
    "AOM_debug_tweez_spots1.operations['tweez_continuous'] = SquarePulse(length=round(continuous_time/4)*4, amplitude=spot_amplitude1)\n",
    "AOM_debug_tweez_spots2.operations['tweez_continuous'] = SquarePulse(length=round(continuous_time/4)*4, amplitude=spot_amplitude2)"
   ]
  },
  {
   "cell_type": "code",
   "execution_count": 624,
   "metadata": {},
   "outputs": [
    {
     "data": {
      "text/plain": [
       "0.38"
      ]
     },
     "execution_count": 624,
     "metadata": {},
     "output_type": "execute_result"
    }
   ],
   "source": [
    "AOM_double_cooler.operations['cool_high_pulse_imag'].amplitude"
   ]
  },
  {
   "cell_type": "code",
   "execution_count": 625,
   "metadata": {},
   "outputs": [],
   "source": [
    "qua_config = machine.generate_config()"
   ]
  },
  {
   "cell_type": "markdown",
   "metadata": {},
   "source": [
    "Write the QUA program"
   ]
  },
  {
   "cell_type": "markdown",
   "metadata": {},
   "source": [
    "#### Example of the use of input streams\n",
    "Input streams allow passing data from the client computer to a *running* job (QUA program). This might be useful during the optimization of parameters such as the *detuning* (which is controlled using update_frequency_) and possibly the *amplitude* (in this case I'm not sure actually, because it has to be multiplied by amp(v), which can take values in [-2,2]). See the guide for dynamical variation of the amplitude. \n",
    "\n",
    "The fundamental commands are:\\\n",
    "`declare_input_stream()`: declare a qua variable or vector to be used as an input stream to the qua program (is inside the program). Has all the params of a qua variable.\\\n",
    "`push_to_input_stream()`: used outside the program, is used to pass value from the job api to the qua program. It is a method of the job object.\\\n",
    "`advance_input_stream()`: inside the program, is used to access the next available data. *NB: if there is no available data, this command will pause OPX and wait until next data is available! It is critical were to put it!*\n",
    "\n",
    "E.g.\n",
    "```python \n",
    "with program() as example_input_stream:\n",
    "    truth_table = declare_input_stream(bool, name='truth_table_input_stream', size=10)\n",
    "    tau = declare_input_stream(int, name='tau_input_stream')\n",
    "    ...\n",
    "    with while_(some_qua_cond):\n",
    "        advance_input_stream(tau)\n",
    "        advance_input_stream(truth_table)\n",
    "        play('operation', 'element0', duration=tau, condition=truth_table[0])\n",
    "        play('operation', 'element1', duration=tau, condition=truth_table[1])\n",
    "        play('operation', 'element2', duration=tau, condition=truth_table[2])\n",
    "        ...\n",
    "    ...\n",
    "\n",
    "...\n",
    "job = qm.execute(example_input_stream)\n",
    "...\n",
    "while some_cond:\n",
    "    qubit_states = read_from_external_device()\n",
    "    calc_tau = calculate_tau()\n",
    "    job.push_to_input_stream('truth_table_input_stream', qubit_states)\n",
    "    job.push_to_input_stream('tau_input_stream', calc_tau)\n",
    "```"
   ]
  },
  {
   "cell_type": "code",
   "execution_count": 626,
   "metadata": {},
   "outputs": [],
   "source": [
    "with program() as det_amp_optimization_streams:\n",
    "    input_cool_double_rf = declare_input_stream(int, name='cool_double_rf_input_stream')\n",
    "    input_repump_double_rf = declare_input_stream(int, name='repump_double_rf_input_stream')\n",
    "    input_cool_amp_imag = declare_input_stream(fixed, name='cool_amp_imag_input_stream')\n",
    "    input_repump_amp_imag = declare_input_stream(fixed, name='repump_amp_imag_input_stream')\n",
    "        \n",
    "    with infinite_loop_():\n",
    "        # might stop the whole program when it returns to a new loop if no data is passed. See more carefully the documentation\n",
    "        # might be a problem for the single pass?\n",
    "        advance_input_stream(input_cool_double_rf)\n",
    "        advance_input_stream(input_repump_double_rf)\n",
    "        advance_input_stream(input_cool_amp_imag)\n",
    "        advance_input_stream(input_repump_amp_imag)\n",
    "        #assign(IO1, input_cool_double_rf)\n",
    "        #assign(IO2, input_repump_double_rf)\n",
    "        \n",
    "        update_frequency('AOM_double_cooler', 200e6, keep_phase=True)\n",
    "        update_frequency('AOM_double_repumper', 195e6, keep_phase=True)\n",
    "        update_frequency('AOM_debug_repumper', 100e3, keep_phase=True)\n",
    "\n",
    "        wait_for_trigger('AOM_tweez_mod') \n",
    "        wait_for_trigger('AOM_double_repumper')\n",
    "        wait_for_trigger('AOM_double_cooler')\n",
    "        wait_for_trigger('AOM_single_repumper')\n",
    "        wait_for_trigger('AOM_single_cooler')\n",
    "        wait_for_trigger('AOM_debug_repumper')\n",
    "        wait_for_trigger('AOM_tweez_spots1')\n",
    "        wait_for_trigger('AOM_tweez_spots2')\n",
    "\n",
    "        # atoms loading\n",
    "        long_pulse('tweez_continuous', 'AOM_tweez_spots1', continuous_time_long_pulse)\n",
    "        long_pulse('tweez_continuous', 'AOM_tweez_spots2', continuous_time_long_pulse)\n",
    "        long_ramp('tweez_step_pulse', 'AOM_tweez_mod', tweez_ramp_time)\n",
    "        long_pulse('tweez_plateau_pulse', 'AOM_tweez_mod', tweez_plateau_time)\n",
    "        align('AOM_tweez_mod', 'AOM_double_cooler', 'AOM_double_repumper','AOM_single_cooler','AOM_single_repumper','AOM_debug_repumper')\n",
    "\n",
    "        # gap1\n",
    "        play('tweez_step_pulse', 'AOM_tweez_mod', duration=round(gap1_time/4))\n",
    "        play('cool_low_pulse', 'AOM_double_cooler', duration=round(gap1_time/4))\n",
    "        play('repump_low_pulse', 'AOM_double_repumper', duration=round(gap1_time/4))\n",
    "\n",
    "        # long_pulse('cool_continuous_coll', 'AOM_single_cooler', gap1_time)\n",
    "        # long_pulse('repump_continuous_coll', 'AOM_single_repumper', gap1_time)\n",
    "\n",
    "        long_pulse('cool_continuous_coll', 'AOM_single_cooler', gap1_time + coll_time) # try to change\n",
    "        long_pulse('repump_continuous_coll', 'AOM_single_repumper', gap1_time + coll_time)\n",
    "        long_pulse('repump_continuous', 'AOM_debug_repumper', gap1_time + coll_time)\n",
    "\n",
    "        # collision\n",
    "        stroboscopic(('tweez_low_pulse','tweez_high_pulse_coll'), 'AOM_tweez_mod', number_of_periods_collision)\n",
    "        stroboscopic(('cool_high_pulse_coll','cool_low_pulse'), 'AOM_double_cooler', number_of_periods_collision, rc_delay_time)\n",
    "        stroboscopic(('repump_high_pulse_coll','repump_low_pulse'), 'AOM_double_repumper', number_of_periods_collision, rc_delay_time)\n",
    "\n",
    "        update_frequency('AOM_double_cooler', input_cool_double_rf, keep_phase=True)\n",
    "        update_frequency('AOM_double_repumper', input_repump_double_rf, keep_phase=True)\n",
    "        update_frequency('AOM_debug_repumper', input_repump_double_rf/1000, keep_phase=True) # lower the frequency to be able to see it on the scope\n",
    "\n",
    "        # gap2\n",
    "        play('tweez_high_pulse_imag', 'AOM_tweez_mod', duration=round(gap2_time/4))\n",
    "        play('cool_low_pulse', 'AOM_double_cooler', duration=round(gap2_time/4))\n",
    "        play('repump_low_pulse', 'AOM_double_repumper', duration=round(gap2_time/4))\n",
    "\n",
    "        long_pulse_amp_mod('cool_continuous_imag', 'AOM_single_cooler', gap2_time + imag_time, amp_mod=input_cool_amp_imag) # try to change\n",
    "        long_pulse_amp_mod('repump_continuous_imag', 'AOM_single_repumper', gap2_time + imag_time, amp_mod=input_repump_amp_imag)\n",
    "        long_pulse_amp_mod('repump_continuous', 'AOM_debug_repumper', gap2_time + imag_time, amp_mod=input_repump_amp_imag)\n",
    "\n",
    "        # imaging\n",
    "        stroboscopic(('tweez_low_pulse','tweez_high_pulse_imag'), 'AOM_tweez_mod', number_of_periods_imaging)\n",
    "        stroboscopic(('repump_high_pulse_imag','repump_low_pulse'), 'AOM_double_repumper', number_of_periods_imaging, rc_delay_time)\n",
    "        stroboscopic(('cool_high_pulse_imag','cool_low_pulse'), 'AOM_double_cooler', number_of_periods_imaging, rc_delay_time)\n",
    "\n",
    "        # delay for image\n",
    "        long_pulse('tweez_high_pulse_imag', 'AOM_tweez_mod', delay_imaging_time)\n",
    "        long_pulse('cool_low_pulse', 'AOM_double_cooler', delay_imaging_time)\n",
    "        long_pulse('repump_low_pulse', 'AOM_double_repumper', delay_imaging_time)\n",
    "\n",
    "        long_pulse_amp_mod('cool_continuous_imag', 'AOM_single_cooler', delay_imaging_time + imag_time, amp_mod=input_cool_amp_imag) # try to change\n",
    "        long_pulse_amp_mod('repump_continuous_imag', 'AOM_single_repumper', delay_imaging_time + imag_time, amp_mod=input_repump_amp_imag)\n",
    "        long_pulse_amp_mod('repump_continuous', 'AOM_debug_repumper', delay_imaging_time + imag_time, amp_mod=input_repump_amp_imag)\n",
    "                \n",
    "        # imaging\n",
    "        stroboscopic(('tweez_low_pulse','tweez_high_pulse_imag'), 'AOM_tweez_mod', number_of_periods_imaging)\n",
    "        stroboscopic(('repump_high_pulse_imag','repump_low_pulse'), 'AOM_double_repumper', number_of_periods_imaging, rc_delay_time)\n",
    "        stroboscopic(('cool_high_pulse_imag','cool_low_pulse'), 'AOM_double_cooler', number_of_periods_imaging, rc_delay_time)\n",
    "        \n",
    "        #pause()"
   ]
  },
  {
   "cell_type": "code",
   "execution_count": 627,
   "metadata": {},
   "outputs": [],
   "source": [
    "class StreamsHandler(PatternMatchingEventHandler):\n",
    "    def __init__(self, patterns, qm, opx_job):\n",
    "        super().__init__(patterns=patterns, ignore_directories=True)\n",
    "        self.qm = qm\n",
    "        self.job = opx_job\n",
    "        config_dict = self.qm.get_config()\n",
    "        self.config_cool_amp_imag = config_dict['waveforms']['AOM_single_cooler.cool_continuous_imag.wf']['sample']\n",
    "        self.config_repump_amp_imag = config_dict['waveforms']['AOM_single_repumper.repump_continuous_imag.wf']['sample']\n",
    "\n",
    "    def on_created(self, event):\n",
    "\n",
    "        clear_output(wait=True)\n",
    "        print(f\"Processing file: {event.src_path}\")\n",
    "        time.sleep(0.2) # wait for M-LOOP to write the file\n",
    "        with open(event.src_path, 'r') as file:\n",
    "            line = file.readline().strip()\n",
    "            new_parameters = np.array(eval(line.split('=')[1].strip())) # take the argument after the \"=\" and evaluate the string as python variable\n",
    "        print(\"The Dog has watched:\", new_parameters) # for debugging\n",
    "\n",
    "        new_cool_amp_imag, new_repump_amp_imag, new_cool_double_rf_imag, new_repump_double_rf_imag = new_parameters\n",
    "        cool_amp_imag_factor = new_cool_amp_imag/self.config_cool_amp_imag # multiplication factor to be passed to the amp function\n",
    "        repump_amp_imag_factor = new_repump_amp_imag/self.config_repump_amp_imag\n",
    "\n",
    "        self.job.push_to_input_stream('cool_double_rf_input_stream', int(new_cool_double_rf_imag))\n",
    "        self.job.push_to_input_stream('repump_double_rf_input_stream', int(new_repump_double_rf_imag))\n",
    "        self.job.push_to_input_stream('cool_amp_imag_input_stream', float(cool_amp_imag_factor))\n",
    "        self.job.push_to_input_stream('repump_amp_imag_input_stream', float(repump_amp_imag_factor))\n",
    "        \n",
    "        print(\"New cooler factor:\", cool_amp_imag_factor)\n",
    "        print(\"New repumper factor:\", repump_amp_imag_factor)\n",
    "        print(\"New cooler frequency:\", new_cool_double_rf_imag)\n",
    "        print(\"New repumper frequency:\", new_repump_double_rf_imag)\n",
    "\n",
    "        os.remove(event.src_path)"
   ]
  },
  {
   "cell_type": "code",
   "execution_count": 628,
   "metadata": {},
   "outputs": [
    {
     "name": "stdout",
     "output_type": "stream",
     "text": [
      "Processing file: C:\\Users\\EQM\\Giovanni\\OPXsetup\\OPX_EQM\\Optimization\\imaging_parameters\\exp_input.txt\n",
      "The Dog has watched: [2.25986322e-02 6.07046562e-04 1.98227556e+08 1.95553861e+08]\n",
      "New cooler frequency: 198227556.0\n",
      "New repumper frequency: 195553861.0\n",
      "New cooler factor: 0.04519864375314188\n",
      "New repumper factor: 0.0012141301763125096\n"
     ]
    }
   ],
   "source": [
    "# get the parameters from the exp_input file \n",
    "path_to_watch = r\"C:\\Users\\EQM\\Giovanni\\OPXsetup\\OPX_EQM\\Optimization\\imaging_parameters\"\n",
    "pattern = 'exp_input.txt'\n",
    "\n",
    "if __name__ == '__main__':\n",
    "    qm = qmm.open_qm(qua_config)\n",
    "    job = qm.execute(det_amp_optimization_streams)\n",
    "    observer = Observer()\n",
    "    event_handler = StreamsHandler(patterns=[pattern], qm=qm, opx_job = job)\n",
    "    observer.schedule(event_handler, path=path_to_watch, recursive=True)\n",
    "    observer.start()\n",
    "\n",
    "    try:\n",
    "        while True:\n",
    "            time.sleep(1)\n",
    "    except KeyboardInterrupt:\n",
    "        observer.stop()\n",
    "    observer.join()"
   ]
  },
  {
   "cell_type": "code",
   "execution_count": null,
   "metadata": {},
   "outputs": [],
   "source": []
  },
  {
   "cell_type": "code",
   "execution_count": 290,
   "metadata": {},
   "outputs": [
    {
     "ename": "QmFailedToCloseQuantumMachineError",
     "evalue": "Machine qm-1734732445746 not found",
     "output_type": "error",
     "traceback": [
      "\u001b[1;31m---------------------------------------------------------------------------\u001b[0m",
      "\u001b[1;31mQmFailedToCloseQuantumMachineError\u001b[0m        Traceback (most recent call last)",
      "Cell \u001b[1;32mIn[290], line 1\u001b[0m\n\u001b[1;32m----> 1\u001b[0m \u001b[43mqm\u001b[49m\u001b[38;5;241;43m.\u001b[39;49m\u001b[43mclose\u001b[49m\u001b[43m(\u001b[49m\u001b[43m)\u001b[49m\n\u001b[0;32m      2\u001b[0m \u001b[38;5;66;03m# qm.compile(det_optimization)\u001b[39;00m\n",
      "File \u001b[1;32mc:\\Users\\EQM\\Anaconda2\\envs\\eqm-lab\\lib\\site-packages\\qm\\quantum_machine.py:132\u001b[0m, in \u001b[0;36mQuantumMachine.close\u001b[1;34m(self)\u001b[0m\n\u001b[0;32m    125\u001b[0m \u001b[38;5;28;01mdef\u001b[39;00m \u001b[38;5;21mclose\u001b[39m(\u001b[38;5;28mself\u001b[39m) \u001b[38;5;241m-\u001b[39m\u001b[38;5;241m>\u001b[39m \u001b[38;5;28mbool\u001b[39m:\n\u001b[0;32m    126\u001b[0m \u001b[38;5;250m    \u001b[39m\u001b[38;5;124;03m\"\"\"Closes the quantum machine.\u001b[39;00m\n\u001b[0;32m    127\u001b[0m \n\u001b[0;32m    128\u001b[0m \u001b[38;5;124;03m    Returns:\u001b[39;00m\n\u001b[0;32m    129\u001b[0m \u001b[38;5;124;03m        ``True`` if the close request succeeded, raises an exception\u001b[39;00m\n\u001b[0;32m    130\u001b[0m \u001b[38;5;124;03m        otherwise.\u001b[39;00m\n\u001b[0;32m    131\u001b[0m \u001b[38;5;124;03m    \"\"\"\u001b[39;00m\n\u001b[1;32m--> 132\u001b[0m     \u001b[38;5;28;01mreturn\u001b[39;00m \u001b[38;5;28;43mself\u001b[39;49m\u001b[38;5;241;43m.\u001b[39;49m\u001b[43m_frontend\u001b[49m\u001b[38;5;241;43m.\u001b[39;49m\u001b[43mclose_quantum_machine\u001b[49m\u001b[43m(\u001b[49m\u001b[38;5;28;43mself\u001b[39;49m\u001b[38;5;241;43m.\u001b[39;49m\u001b[43m_id\u001b[49m\u001b[43m)\u001b[49m\n",
      "File \u001b[1;32mc:\\Users\\EQM\\Anaconda2\\envs\\eqm-lab\\lib\\site-packages\\qm\\api\\base_api.py:35\u001b[0m, in \u001b[0;36mconnection_error_handle_decorator.<locals>.wrapped\u001b[1;34m(*args, **kwargs)\u001b[0m\n\u001b[0;32m     32\u001b[0m \u001b[38;5;129m@functools\u001b[39m\u001b[38;5;241m.\u001b[39mwraps(func)\n\u001b[0;32m     33\u001b[0m \u001b[38;5;28;01mdef\u001b[39;00m \u001b[38;5;21mwrapped\u001b[39m(\u001b[38;5;241m*\u001b[39margs: P\u001b[38;5;241m.\u001b[39margs, \u001b[38;5;241m*\u001b[39m\u001b[38;5;241m*\u001b[39mkwargs: P\u001b[38;5;241m.\u001b[39mkwargs) \u001b[38;5;241m-\u001b[39m\u001b[38;5;241m>\u001b[39m Ret:\n\u001b[0;32m     34\u001b[0m     \u001b[38;5;28;01mtry\u001b[39;00m:\n\u001b[1;32m---> 35\u001b[0m         \u001b[38;5;28;01mreturn\u001b[39;00m func(\u001b[38;5;241m*\u001b[39margs, \u001b[38;5;241m*\u001b[39m\u001b[38;5;241m*\u001b[39mkwargs)\n\u001b[0;32m     36\u001b[0m     \u001b[38;5;28;01mexcept\u001b[39;00m grpclib\u001b[38;5;241m.\u001b[39mexceptions\u001b[38;5;241m.\u001b[39mGRPCError \u001b[38;5;28;01mas\u001b[39;00m e:\n\u001b[0;32m     37\u001b[0m         \u001b[38;5;28;01mif\u001b[39;00m is_debug():\n",
      "File \u001b[1;32mc:\\Users\\EQM\\Anaconda2\\envs\\eqm-lab\\lib\\site-packages\\qm\\api\\frontend_api.py:159\u001b[0m, in \u001b[0;36mFrontendApi.close_quantum_machine\u001b[1;34m(self, machine_id)\u001b[0m\n\u001b[0;32m    157\u001b[0m response \u001b[38;5;241m=\u001b[39m run_async(\u001b[38;5;28mself\u001b[39m\u001b[38;5;241m.\u001b[39m_stub\u001b[38;5;241m.\u001b[39mclose_quantum_machine(request, timeout\u001b[38;5;241m=\u001b[39m\u001b[38;5;28mself\u001b[39m\u001b[38;5;241m.\u001b[39m_timeout))\n\u001b[0;32m    158\u001b[0m \u001b[38;5;28;01mif\u001b[39;00m \u001b[38;5;129;01mnot\u001b[39;00m response\u001b[38;5;241m.\u001b[39msuccess:\n\u001b[1;32m--> 159\u001b[0m     \u001b[38;5;28;01mraise\u001b[39;00m QmFailedToCloseQuantumMachineError(\u001b[38;5;124m\"\u001b[39m\u001b[38;5;130;01m\\n\u001b[39;00m\u001b[38;5;124m\"\u001b[39m\u001b[38;5;241m.\u001b[39mjoin(err\u001b[38;5;241m.\u001b[39mmessage \u001b[38;5;28;01mfor\u001b[39;00m err \u001b[38;5;129;01min\u001b[39;00m response\u001b[38;5;241m.\u001b[39merrors))\n\u001b[0;32m    160\u001b[0m \u001b[38;5;28;01mreturn\u001b[39;00m \u001b[38;5;28;01mTrue\u001b[39;00m\n",
      "\u001b[1;31mQmFailedToCloseQuantumMachineError\u001b[0m: Machine qm-1734732445746 not found"
     ]
    }
   ],
   "source": [
    "qm.close()\n",
    "# qm.compile(det_optimization)"
   ]
  },
  {
   "cell_type": "code",
   "execution_count": null,
   "metadata": {},
   "outputs": [],
   "source": []
  }
 ],
 "metadata": {
  "kernelspec": {
   "display_name": "eqm-lab",
   "language": "python",
   "name": "python3"
  },
  "language_info": {
   "codemirror_mode": {
    "name": "ipython",
    "version": 3
   },
   "file_extension": ".py",
   "mimetype": "text/x-python",
   "name": "python",
   "nbconvert_exporter": "python",
   "pygments_lexer": "ipython3",
   "version": "3.10.11"
  }
 },
 "nbformat": 4,
 "nbformat_minor": 2
}
