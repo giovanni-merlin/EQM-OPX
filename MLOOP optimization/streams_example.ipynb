{
 "cells": [
  {
   "cell_type": "code",
   "execution_count": 74,
   "metadata": {},
   "outputs": [],
   "source": [
    "from qm.qua import *\n",
    "from qm import QuantumMachinesManager, SimulationConfig\n",
    "from quam.components import BasicQuAM, SingleChannel\n",
    "from quam.components.pulses import SquarePulse\n",
    "from qualang_tools.units import unit\n",
    "from QuAM_utilities import *\n",
    "\n",
    "import os\n",
    "import matplotlib.pyplot as plt\n",
    "from matplotlib import patches\n",
    "import time\n",
    "from watchdog.observers import Observer\n",
    "from watchdog.events import FileSystemEventHandler, PatternMatchingEventHandler\n",
    "import numpy as np\n",
    "from numpy import array\n",
    "from astropy.io import fits\n",
    "\n",
    "u = unit() "
   ]
  },
  {
   "cell_type": "code",
   "execution_count": 75,
   "metadata": {},
   "outputs": [],
   "source": [
    "# silence the warnings?\n",
    "import warnings\n",
    "warnings.filterwarnings(\"ignore\")\n",
    "\n",
    "from IPython.display import clear_output"
   ]
  },
  {
   "cell_type": "code",
   "execution_count": 76,
   "metadata": {},
   "outputs": [
    {
     "name": "stdout",
     "output_type": "stream",
     "text": [
      "2024-12-20 21:46:18,595 - qm - DEBUG    - Probing gateway at: 130.79.148.167:80\n",
      "2024-12-20 21:46:19,653 - qm - DEBUG    - Connection redirected from '130.79.148.167:80' to '130.79.148.167:10010'\n",
      "2024-12-20 21:46:19,657 - qm - DEBUG    - Established connection to 130.79.148.167:10010\n",
      "2024-12-20 21:46:19,658 - qm - DEBUG    - Gateway discovered at: 130.79.148.167:80\n",
      "2024-12-20 21:46:19,798 - qm - INFO     - Performing health check\n",
      "2024-12-20 21:46:19,806 - qm - INFO     - Health check passed\n"
     ]
    }
   ],
   "source": [
    "ip_address = '130.79.148.167'\n",
    "qmm = QuantumMachinesManager(host=ip_address, log_level='DEBUG')"
   ]
  },
  {
   "cell_type": "markdown",
   "metadata": {},
   "source": [
    "Configure the machine: define the channels and associate the pulses"
   ]
  },
  {
   "cell_type": "code",
   "execution_count": 77,
   "metadata": {},
   "outputs": [],
   "source": [
    "# AOM RFs\n",
    "test_rf = 100*u.kHz\n",
    "test_rf = 0\n",
    "\n",
    "# pulse variables\n",
    "test_amplitude = 0.5\n",
    "test_time = 100*u.us\n",
    "\n",
    "strobo_periods = 3\n",
    "\n",
    "gap1_time = 5*u.ms\n",
    "gap2_time = 5*u.ms\n",
    "imag_time = 50*u.ms\n",
    "coll_time = 50*u.ms\n",
    "delay_imaging_time = 250.15*u.ms\n",
    "\n",
    "machine = BasicQuAM()\n",
    "machine.channels['test'] = test = SingleChannel(opx_output=('con1', 7), intermediate_frequency=test_rf)\n",
    "\n",
    "test.operations['high_pulse'] = high_pulse = SquarePulse(length=int(test_time), amplitude=test_amplitude)\n",
    "test.operations['low_pulse'] = low_pulse = SquarePulse(length=int(test_time), amplitude=0)\n",
    "\n",
    "qua_config = machine.generate_config()"
   ]
  },
  {
   "cell_type": "code",
   "execution_count": 78,
   "metadata": {},
   "outputs": [],
   "source": [
    "with program() as streams_test:\n",
    "    input_rf = declare_input_stream(int, name='input_rf_input_stream') # NB: check the type of the input\n",
    "\n",
    "    with infinite_loop_():\n",
    "        advance_input_stream(input_rf)\n",
    "        update_frequency('test', input_rf, keep_phase=True)\n",
    "        wait_for_trigger('test') \n",
    "        play('high_pulse', 'test')\n",
    "        play('low_pulse', 'test')"
   ]
  },
  {
   "cell_type": "code",
   "execution_count": 79,
   "metadata": {},
   "outputs": [],
   "source": [
    "with program() as IO_test:\n",
    "    #input_rf = declare_input_stream(int, name='input_rf_input_stream') # NB: check the type of the input\n",
    "    n = declare(int)\n",
    "\n",
    "    with infinite_loop_():\n",
    "        #advance_input_stream(input_rf)\n",
    "        with for_(var=n, init=10000, cond=n<=200000, update=n+10000):\n",
    "            assign(IO1, n)\n",
    "            wait_for_trigger('test') \n",
    "            update_frequency('test', n, keep_phase=True)\n",
    "            play('high_pulse', 'test')\n",
    "            play('low_pulse', 'test')\n",
    "            pause()"
   ]
  },
  {
   "cell_type": "code",
   "execution_count": 80,
   "metadata": {},
   "outputs": [],
   "source": [
    "with program() as amplitudeonly_test:\n",
    "    input_amp = declare_input_stream(fixed, name='input_amp_input_stream') # NB: check the type of the input\n",
    "\n",
    "    with infinite_loop_():\n",
    "        advance_input_stream(input_amp)\n",
    "        play('high_pulse'*amp(input_amp), 'test')\n",
    "        #play('high_pulse', 'test')\n",
    "        play('low_pulse', 'test')"
   ]
  },
  {
   "cell_type": "code",
   "execution_count": 81,
   "metadata": {},
   "outputs": [],
   "source": [
    "with program() as amplitudeonly_strobo:\n",
    "    input_amp = declare_input_stream(fixed, name='input_amp_input_stream') # this must be a qua variable\n",
    "\n",
    "    with infinite_loop_():\n",
    "        advance_input_stream(input_amp)\n",
    "        stroboscopic_amp_mod(('high_pulse','low_pulse'), 'test', strobo_periods, amp_mod=input_amp)"
   ]
  },
  {
   "cell_type": "code",
   "execution_count": 82,
   "metadata": {},
   "outputs": [],
   "source": [
    "with program() as amplitude_frequency_strobo:\n",
    "    input_amp = declare_input_stream(fixed, name='input_amp_input_stream') # this must be a qua variable\n",
    "    input_rf = declare_input_stream(int, name='input_rf_input_stream')\n",
    "\n",
    "    with infinite_loop_():\n",
    "        advance_input_stream(input_amp)\n",
    "        advance_input_stream(input_rf)\n",
    "        update_frequency('test', input_rf/2, keep_phase=True)\n",
    "        stroboscopic_amp_mod(('high_pulse','low_pulse'), 'test', strobo_periods, amp_mod=input_amp)"
   ]
  },
  {
   "cell_type": "code",
   "execution_count": 83,
   "metadata": {},
   "outputs": [],
   "source": [
    "with program() as test_det_amp_optimization_streams:\n",
    "    input_cool_double_rf = declare_input_stream(int, name='input_rf_input_stream')\n",
    "    #input_repump_double_rf = declare_input_stream(int, name='repump_double_rf_input_stream')\n",
    "    input_cool_amp_imag = declare_input_stream(fixed, name='cool_amp_imag_input_stream')\n",
    "    #input_repump_amp_imag = declare_input_stream(fixed, name='repump_amp_imag_input_stream')\n",
    "        \n",
    "    with infinite_loop_():\n",
    "        advance_input_stream(input_cool_double_rf)\n",
    "        #advance_input_stream(input_repump_double_rf)\n",
    "        advance_input_stream(input_cool_amp_imag)\n",
    "        #advance_input_stream(input_repump_amp_imag)\n",
    "        update_frequency('test', 50, keep_phase=True)\n",
    "        wait_for_trigger('test')\n",
    "\n",
    "        long_pulse('high_pulse', 'test', gap1_time + 3*coll_time) # try to change\n",
    "        #long_pulse('repump_continuous_coll', 'AOM_single_repumper', gap1_time + coll_time)\n",
    "\n",
    "        update_frequency('test', input_cool_double_rf, keep_phase=True)\n",
    "        #update_frequency('AOM_double_repumper', input_repump_double_rf, keep_phase=True)\n",
    "\n",
    "        long_pulse_amp_mod('high_pulse', 'test', gap2_time + 3*imag_time, amp_mod=input_cool_amp_imag) # try to change\n",
    "        #long_pulse('repump_continuous_imag', 'AOM_single_repumper', gap2_time + imag_time)\n",
    "\n",
    "        # delay for image\n",
    "        #long_pulse('low_pulse', 'test', delay_imaging_time)\n",
    "        #long_pulse('repump_low_pulse', 'AOM_double_repumper', delay_imaging_time)\n",
    "\n",
    "        #long_pulse('high_pulse', 'test', imag_time) # try to change\n",
    "        #long_pulse('repump_continuous_imag', 'AOM_single_repumper', delay_imaging_time + imag_time)"
   ]
  },
  {
   "cell_type": "code",
   "execution_count": 84,
   "metadata": {},
   "outputs": [],
   "source": [
    "# upon image creation\n",
    "class StreamsHandler(PatternMatchingEventHandler):\n",
    "    def __init__(self, patterns, qm, opx_job):\n",
    "        super().__init__(patterns=patterns, ignore_directories=True)\n",
    "        self.qm = qm\n",
    "        self.job = opx_job\n",
    "\n",
    "    def on_created(self, event):\n",
    "        # this functoin is called whenever a new \"pattern\" file is created\n",
    "        \n",
    "        clear_output(wait=True)\n",
    "        print(f\"Processing file: {event.src_path}\")\n",
    "        time.sleep(0.2) # wait for M-LOOP to write the file\n",
    "        with open(event.src_path, 'r') as file:\n",
    "            line = file.readline().strip()\n",
    "            new_parameters = np.array(eval(line.split('=')[1].strip())) # take the argument after the \"=\" and evaluate the string as python variable\n",
    "        print(\"The Dog has watched:\", new_parameters) # for debugging\n",
    "\n",
    "        new_rf, new_amp = new_parameters\n",
    "        frac = new_amp/0.5\n",
    "        self.job.push_to_input_stream('input_rf_input_stream', int(new_rf))\n",
    "        self.job.push_to_input_stream('cool_amp_imag_input_stream', float(frac))\n",
    "        #print(\"New frequency:\", self.qm.get_io1_value())\n",
    "        #self.job.resume()\n",
    "        os.remove(event.src_path)\n",
    "        #print(\"New values:\")\n",
    "        #print(f\" cooler frequency: {cool_double_rf_imag}\")\n",
    "        #print(f\" repumper frequency: {repump_double_rf_imag}\")"
   ]
  },
  {
   "cell_type": "code",
   "execution_count": 85,
   "metadata": {},
   "outputs": [
    {
     "name": "stdout",
     "output_type": "stream",
     "text": [
      "Processing file: C:\\Users\\EQM\\Giovanni\\OPXsetup\\OPX_EQM\\Optimization\\imaging_parameters\\exp_input.txt\n",
      "The Dog has watched: [15.46490669  0.32114169]\n"
     ]
    }
   ],
   "source": [
    "# get the parameters from the exp_input file \n",
    "path_to_watch = r\"C:\\Users\\EQM\\Giovanni\\OPXsetup\\OPX_EQM\\Optimization\\imaging_parameters\"\n",
    "pattern = 'exp_input.txt'\n",
    "\n",
    "if __name__ == '__main__':\n",
    "    qm = qmm.open_qm(qua_config)\n",
    "    job = qm.execute(test_det_amp_optimization_streams)\n",
    "    observer = Observer()\n",
    "    event_handler = StreamsHandler(patterns=[pattern], qm=qm, opx_job = job)\n",
    "    observer.schedule(event_handler, path=path_to_watch, recursive=True)\n",
    "    observer.start()\n",
    "\n",
    "    try:\n",
    "        while True:\n",
    "            time.sleep(1)\n",
    "    except KeyboardInterrupt:\n",
    "        observer.stop()\n",
    "    observer.join()"
   ]
  },
  {
   "cell_type": "code",
   "execution_count": null,
   "metadata": {},
   "outputs": [],
   "source": []
  },
  {
   "cell_type": "code",
   "execution_count": 40,
   "metadata": {},
   "outputs": [
    {
     "name": "stdout",
     "output_type": "stream",
     "text": [
      "2024-12-20 17:58:43,555 - qm - WARNING  - Open QM ended with warning 0: Opening a new Quantum Machine and closing Quantum Machines: \n",
      "2024-12-20 17:58:43,556 - qm - WARNING  - Open QM ended with warning 0: Quantum Machine qm-1734713914578 is canceling running job 1734512114521.\n",
      "2024-12-20 17:58:43,567 - qm - INFO     - Sending program to QOP for compilation\n",
      "2024-12-20 17:58:43,855 - qm - INFO     - Executing program\n"
     ]
    }
   ],
   "source": [
    "qm = qmm.open_qm(qua_config)\n",
    "job = qm.execute(amplitude_frequency_strobo)"
   ]
  },
  {
   "cell_type": "code",
   "execution_count": 41,
   "metadata": {},
   "outputs": [
    {
     "name": "stdout",
     "output_type": "stream",
     "text": [
      "0.5\n"
     ]
    }
   ],
   "source": [
    "new_amplitude = 0.25\n",
    "new_rf = int(20e3)\n",
    "fact = new_amplitude/test_amplitude\n",
    "print(fact)\n",
    "job.push_to_input_stream('input_amp_input_stream', fact)\n",
    "job.push_to_input_stream('input_rf_input_stream', new_rf)"
   ]
  },
  {
   "cell_type": "code",
   "execution_count": 12,
   "metadata": {},
   "outputs": [
    {
     "data": {
      "text/plain": [
       "Execution report for job 1734512114546\n",
       "No errors"
      ]
     },
     "execution_count": 12,
     "metadata": {},
     "output_type": "execute_result"
    }
   ],
   "source": [
    "job.execution_report()"
   ]
  },
  {
   "cell_type": "code",
   "execution_count": 18,
   "metadata": {},
   "outputs": [
    {
     "data": {
      "text/plain": [
       "True"
      ]
     },
     "execution_count": 18,
     "metadata": {},
     "output_type": "execute_result"
    }
   ],
   "source": [
    "job.halt()"
   ]
  },
  {
   "cell_type": "markdown",
   "metadata": {},
   "source": [
    "Notes on stream test:\n",
    "- there are some synchronization issues\n",
    "- sometimes i see an update of just the first value, then the job pauses\n",
    "- IO READ TEST. The reading of the assigned value via the IO variable seems to work. In particular, we first see the update on the oscilloscope (new sequene from the OPX), and then we ge the reading from the output \n",
    "- STREAM ONLY TEST. The signal gets always updated, it does not stop.\n",
    "- STREAM TEST. With the trigger, seems to work only for a couple of iterations...is it in conflict with the pause since they do similar things? BNC cable time is approx 50ns. Without the trigger works fine.\n",
    "\n",
    "Suspects:\n",
    "- The problem might be trigger+pause!\n",
    "- trigger+get_io"
   ]
  },
  {
   "cell_type": "markdown",
   "metadata": {},
   "source": [
    "TODO:\n",
    "- try with amplitude modification\n",
    "- try with a single channel but for the whole sequence "
   ]
  },
  {
   "cell_type": "code",
   "execution_count": null,
   "metadata": {},
   "outputs": [],
   "source": [
    "qm.close()\n",
    "# qm.compile(det_optimization)"
   ]
  },
  {
   "cell_type": "code",
   "execution_count": null,
   "metadata": {},
   "outputs": [],
   "source": []
  }
 ],
 "metadata": {
  "kernelspec": {
   "display_name": "eqm-lab",
   "language": "python",
   "name": "python3"
  },
  "language_info": {
   "codemirror_mode": {
    "name": "ipython",
    "version": 3
   },
   "file_extension": ".py",
   "mimetype": "text/x-python",
   "name": "python",
   "nbconvert_exporter": "python",
   "pygments_lexer": "ipython3",
   "version": "3.10.11"
  }
 },
 "nbformat": 4,
 "nbformat_minor": 2
}
