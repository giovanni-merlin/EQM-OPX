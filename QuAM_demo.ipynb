{
 "cells": [
  {
   "cell_type": "markdown",
   "metadata": {},
   "source": [
    "Quam is useful to generate a configuration file in a simpler way.\n",
    "The QUA program itself is not managed by quam.\n",
    "\n",
    "Example of usage of quam"
   ]
  },
  {
   "cell_type": "markdown",
   "metadata": {},
   "source": [
    "1. Create a root QuAM object"
   ]
  },
  {
   "cell_type": "code",
   "execution_count": 134,
   "metadata": {},
   "outputs": [
    {
     "name": "stdout",
     "output_type": "stream",
     "text": [
      "QuAM:\n",
      "  channels: QuamDict Empty\n",
      "  octaves: QuamDict Empty\n"
     ]
    }
   ],
   "source": [
    "from qm.qua import *\n",
    "from qm import QuantumMachinesManager, SimulationConfig\n",
    "from quam.components import BasicQuAM, SingleChannel\n",
    "from quam.components.pulses import SquarePulse\n",
    "import matplotlib.pyplot as plt\n",
    "import time\n",
    "from QuAM_utilities import *\n",
    "\n",
    "machine = BasicQuAM()\n",
    "machine.print_summary()  # outputs the current QuAM state"
   ]
  },
  {
   "cell_type": "markdown",
   "metadata": {},
   "source": [
    "2. Define the Single Analog Output Channels"
   ]
  },
  {
   "cell_type": "code",
   "execution_count": 135,
   "metadata": {},
   "outputs": [],
   "source": [
    " \n",
    "#machine.channels['AOM_tweez'] = AOM_tweez = SingleChannel(opx_output=('con1', 1))\n",
    "AOM_single_repumper = machine.channels['AOM_single_repumper'] = AOM_single_repumper = SingleChannel(opx_output=('con1', 1), intermediate_frequency=200e6)\n",
    "machine.channels['AOM_double_repumper'] = AOM_double_repumper = SingleChannel(opx_output=('con1', 2), intermediate_frequency=200e6)\n",
    "#machine.channels['AOM_repump'] = AOM_repump = SingleChannel(opx_output=('con1', 3))\n",
    "machine.channels['AOM_single_cooler'] = AOM_single_cooler = SingleChannel(opx_output=('con1', 3), intermediate_frequency=200e6)\n",
    "machine.channels['AOM_double_cooler'] = AOM_double_cooler = SingleChannel(opx_output=('con1', 4), intermediate_frequency=200e6)\n",
    "\n",
    "machine.channels['AOM_tweez_mod'] = AOM_tweez_mod = SingleChannel(opx_output=('con1', 5), intermediate_frequency=89.161e6) # for tweezer modulation\n",
    "machine.channels['AOM_tweez_spots1'] = AOM_tweez_spots1 = SingleChannel(opx_output=('con1', 6), intermediate_frequency=82.6e6) # first component for generating two spots\n",
    "machine.channels['AOM_tweez_spots2'] = AOM_tweez_spots2 = SingleChannel(opx_output=('con1', 6), intermediate_frequency=67.6e6) # second component for generating two spots\n"
   ]
  },
  {
   "cell_type": "markdown",
   "metadata": {},
   "source": [
    "3. Configure the pulses"
   ]
  },
  {
   "cell_type": "code",
   "execution_count": 136,
   "metadata": {},
   "outputs": [],
   "source": [
    "length = int(50e6)\n",
    "\n",
    "amplitude_single_cooler = 0.38\n",
    "amplitude_single_repumper = 0.38\n",
    "\n",
    "amplitude_double_cooler = 0.38\n",
    "amplitude_double_repumper = 0.38\n",
    "\n",
    "amplitude_tweez_mod = 0.05\n",
    "\n",
    "amplitude_spot1 = 0.38\n",
    "amplitude_spot2 = 0.38\n",
    "\n",
    "high_time = 50e-3 #ns\n",
    "strobo_high = 20000\n",
    "strobo_low = 20000\n",
    "\n",
    "number_of_periods = 2\n",
    "\n",
    "AOM_single_repumper.operations[\"continuous_high\"] = SquarePulse(length=round(high_time*1e9/4)*4, amplitude=amplitude_single_repumper)\n",
    "AOM_single_cooler.operations[\"continuous_high\"] = SquarePulse(length=round(high_time*1e9/4)*4, amplitude=amplitude_single_cooler)\n",
    "AOM_double_repumper.operations[\"high_pulse\"] = SquarePulse(length=round(high_time*1e9/4)*4, amplitude=amplitude_double_repumper)\n",
    "AOM_double_cooler.operations[\"high_pulse\"] = SquarePulse(length=round(high_time*1e9/4)*4, amplitude=amplitude_double_cooler)\n",
    "#low_pulse = AOM_double_repumper.operations[\"low_pulse\"] = SquarePulse(length=round(high_time*1e9/4)*4, amplitude=0)\n",
    "\n",
    "AOM_tweez_mod.operations['high_pulse'] = SquarePulse(length=round(high_time*1e9/4)*4, amplitude=amplitude_tweez_mod)\n",
    "AOM_tweez_mod.operations['low_pulse'] = SquarePulse(length=strobo_low, amplitude=0)\n",
    "AOM_tweez_spots1.operations['high_pulse'] = SquarePulse(length=round(high_time*1e9/4)*4, amplitude=amplitude_spot1)\n",
    "AOM_tweez_spots2.operations['high_pulse'] = SquarePulse(length=round(high_time*1e9/4)*4, amplitude=amplitude_spot2)\n"
   ]
  },
  {
   "cell_type": "code",
   "execution_count": 137,
   "metadata": {},
   "outputs": [],
   "source": [
    "qua_config = machine.generate_config()"
   ]
  },
  {
   "cell_type": "markdown",
   "metadata": {},
   "source": [
    "4. Write the QUA program"
   ]
  },
  {
   "cell_type": "code",
   "execution_count": 138,
   "metadata": {},
   "outputs": [],
   "source": [
    "with program() as my_program:\n",
    "    with infinite_loop_():\n",
    "        #wait_for_trigger(\"AOM_modulation\")\n",
    "        AOM_tweez_mod.play('high_pulse')\n",
    "        AOM_tweez_spots1.play('high_pulse')\n",
    "        AOM_tweez_spots2.play('high_pulse')\n",
    "    with infinite_loop_():\n",
    "        AOM_single_repumper.play(\"continuous_high\")\n",
    "        AOM_single_cooler.play(\"continuous_high\")\n",
    "        AOM_double_repumper.play(\"high_pulse\")\n",
    "        AOM_double_cooler.play(\"high_pulse\")\n",
    "    #with infinite_loop_():\n",
    "\n",
    "\n",
    "        #stroboscopic(('high_pulse','low_pulse'), 'AOM_modulation', number_of_periods)\n",
    "        #wait(int(1e9/8), \"AOM_modulation\")\n",
    "        #AOM_cool.play(\"zero\")\n",
    "    #with infinite_loop_():\n",
    "    #    AOM_tweez_mod.play(\"high_pulse\")\n",
    "    #    AOM_tweez_spots1.play(\"high_pulse\")\n",
    "    #    AOM_tweez_spots2.play(\"high_pulse\")"
   ]
  },
  {
   "cell_type": "code",
   "execution_count": 139,
   "metadata": {},
   "outputs": [],
   "source": [
    "with program() as my_program2:\n",
    "    with infinite_loop_():\n",
    "        AOM_tweez_spots1.play('high_pulse')\n",
    "        AOM_tweez_spots2.play('high_pulse')\n",
    "    with infinite_loop_():\n",
    "        play('high_pulse', 'AOM_tweez_mod')\n",
    "        play('low_pulse', 'AOM_tweez_mod')"
   ]
  },
  {
   "cell_type": "markdown",
   "metadata": {},
   "source": [
    "6. Open the machine and run the program"
   ]
  },
  {
   "cell_type": "code",
   "execution_count": 140,
   "metadata": {},
   "outputs": [
    {
     "name": "stdout",
     "output_type": "stream",
     "text": [
      "2024-12-06 18:40:11,297 - qm - INFO     - Performing health check\n",
      "2024-12-06 18:40:11,328 - qm - INFO     - Health check passed\n",
      "2024-12-06 18:40:12,792 - qm - WARNING  - Open QM ended with warning 0: Opening a new Quantum Machine and closing Quantum Machines: \n",
      "2024-12-06 18:40:12,792 - qm - WARNING  - Open QM ended with warning 0: Quantum Machine qm-1733506781006 is canceling running job 1730223364785.\n",
      "2024-12-06 18:40:12,806 - qm - INFO     - Sending program to QOP for compilation\n",
      "2024-12-06 18:40:12,924 - qm - INFO     - Executing program\n"
     ]
    }
   ],
   "source": [
    "%matplotlib qt \n",
    "\n",
    "Simulation = False\n",
    "\n",
    "ip_address = '130.79.148.167'\n",
    "qmm = QuantumMachinesManager(host=ip_address)\n",
    "\n",
    "if Simulation == True:\n",
    "\n",
    "    start_time = time.time()\n",
    "    simulated_job = qmm.simulate(qua_config, my_program2, SimulationConfig(duration=int(10*1e3/4)))\n",
    "    end_time = time.time()\n",
    "    print(f\"Simulation time: {end_time - start_time} s\")\n",
    "\n",
    "    # get DAC and digital samples\n",
    "    samples = simulated_job.get_simulated_samples()\n",
    "    plt.figure()\n",
    "    plt.plot(samples.con1.analog[\"5\"], \"-\")\n",
    "    #plt.plot(samples.con1.analog[\"2\"], \"-\")\n",
    "    #plt.plot(samples.con1.analog[\"3\"], \"--\")\n",
    "    #plt.plot(samples.con1.digital[\"10\"], \"-\")\n",
    "    #plt.legend((\"tweezer\", \"cooler\", \"repumper\"))#,\"trigger\"))\n",
    "    plt.xlabel(\"Time [ns]\")\n",
    "    plt.ylabel(\"Signal [V]\")        \n",
    "    plt.show()\n",
    "else:\n",
    "    qm = qmm.open_qm(qua_config)\n",
    "    job = qm.execute(my_program)\n"
   ]
  },
  {
   "cell_type": "code",
   "execution_count": null,
   "metadata": {},
   "outputs": [],
   "source": []
  },
  {
   "cell_type": "code",
   "execution_count": 238,
   "metadata": {},
   "outputs": [
    {
     "data": {
      "text/plain": [
       "True"
      ]
     },
     "execution_count": 238,
     "metadata": {},
     "output_type": "execute_result"
    }
   ],
   "source": [
    "# halt the job\n",
    "job.halt()"
   ]
  },
  {
   "cell_type": "code",
   "execution_count": 177,
   "metadata": {},
   "outputs": [
    {
     "data": {
      "text/plain": [
       "Execution report for job 1730223364732\n",
       "Errors:\n",
       "Please refer to section: Error Indications and Error Reporting in documentation for additional information\n",
       "\n",
       "code\t\tseverity\tmessage\n",
       "10001\t\tError\t\tOverflow error in analog output #6 of controller con1"
      ]
     },
     "execution_count": 177,
     "metadata": {},
     "output_type": "execute_result"
    }
   ],
   "source": [
    "job.execution_report()"
   ]
  },
  {
   "cell_type": "markdown",
   "metadata": {},
   "source": []
  }
 ],
 "metadata": {
  "kernelspec": {
   "display_name": "eqm-lab",
   "language": "python",
   "name": "python3"
  },
  "language_info": {
   "codemirror_mode": {
    "name": "ipython",
    "version": 3
   },
   "file_extension": ".py",
   "mimetype": "text/x-python",
   "name": "python",
   "nbconvert_exporter": "python",
   "pygments_lexer": "ipython3",
   "version": "3.10.11"
  }
 },
 "nbformat": 4,
 "nbformat_minor": 2
}
