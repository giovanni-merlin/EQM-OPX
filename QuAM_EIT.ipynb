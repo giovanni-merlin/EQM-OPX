{
 "cells": [
  {
   "cell_type": "markdown",
   "metadata": {},
   "source": [
    "EIT on pancake"
   ]
  },
  {
   "cell_type": "code",
   "execution_count": 125,
   "metadata": {},
   "outputs": [],
   "source": [
    "from qm.qua import *\n",
    "from qm import QuantumMachinesManager, SimulationConfig\n",
    "from quam.components import BasicQuAM, SingleChannel\n",
    "from quam.components.pulses import SquarePulse\n",
    "from qualang_tools.units import unit\n",
    "from QuAM_utilities import *\n",
    "\n",
    "import matplotlib.pyplot as plt\n",
    "import time\n",
    "\n",
    "u = unit()"
   ]
  },
  {
   "cell_type": "code",
   "execution_count": 126,
   "metadata": {},
   "outputs": [],
   "source": [
    "machine = BasicQuAM()\n",
    "\n",
    "# AOM RFs\n",
    "cool_double_rf = 200*u.MHz\n",
    "repump_double_rf = 200*u.MHz"
   ]
  },
  {
   "cell_type": "code",
   "execution_count": 127,
   "metadata": {},
   "outputs": [],
   "source": [
    "machine.channels['AOM_single_repumper'] = AOM_single_repumper = SingleChannel(opx_output=('con1', 1), intermediate_frequency=200e6)\n",
    "machine.channels['AOM_double_repumper'] = AOM_double_repumper = SingleChannel(opx_output=('con1', 2), intermediate_frequency=repump_double_rf)\n",
    "machine.channels['AOM_single_cooler'] = AOM_single_cooler = SingleChannel(opx_output=('con1', 3), intermediate_frequency=200e6)\n",
    "machine.channels['AOM_double_cooler'] = AOM_double_cooler = SingleChannel(opx_output=('con1', 4), intermediate_frequency=cool_double_rf)"
   ]
  },
  {
   "cell_type": "code",
   "execution_count": 128,
   "metadata": {},
   "outputs": [],
   "source": [
    "repump_square_amplitude_EIT_single = 0.03 # 0.03\n",
    "cool_square_amplitude_EIT_single = 0.1 # 0.1\n",
    "\n",
    "repump_square_amplitude_heating_single = 0.38\n",
    "cool_square_amplitude_heating_single = 0.38\n",
    "\n",
    "cool_square_amplitude_double = 0.38\n",
    "repump_square_amplitude_double = 0.38\n",
    "\n",
    "\n",
    "heating_time = 200*u.us\n",
    "EIT_pulse_time = 1*u.ms\n",
    "\n",
    "\n",
    "## Heating pulses\n",
    "AOM_single_cooler.operations['cooler_high_pulse_heating_single'] = SquarePulse(length=round(heating_time/4)*4, amplitude=cool_square_amplitude_heating_single)\n",
    "AOM_double_cooler.operations['cooler_high_pulse_heating_double'] = SquarePulse(length=round(heating_time/4)*4, amplitude=cool_square_amplitude_double)\n",
    "\n",
    "AOM_single_repumper.operations['repump_high_pulse_heating_single'] = SquarePulse(length=round(heating_time/4)*4, amplitude=repump_square_amplitude_heating_single)\n",
    "AOM_double_repumper.operations['repump_high_pulse_heating_double'] = SquarePulse(length=round(heating_time/4)*4, amplitude=repump_square_amplitude_double)\n",
    "\n",
    "## EIT pulses\n",
    "AOM_single_cooler.operations['cooler_high_pulse_EIT_single'] = SquarePulse(length=round(EIT_pulse_time/4)*4, amplitude=cool_square_amplitude_EIT_single)\n",
    "AOM_double_cooler.operations['cooler_high_pulse_EIT_double'] = SquarePulse(length=round(EIT_pulse_time/4)*4, amplitude=cool_square_amplitude_double)\n",
    "\n",
    "AOM_single_repumper.operations['repump_high_pulse_EIT_single'] = SquarePulse(length=round(EIT_pulse_time/4)*4, amplitude=repump_square_amplitude_EIT_single)\n",
    "AOM_double_repumper.operations['repump_high_pulse_EIT_double'] = SquarePulse(length=round(EIT_pulse_time/4)*4, amplitude=repump_square_amplitude_double)"
   ]
  },
  {
   "cell_type": "code",
   "execution_count": 129,
   "metadata": {},
   "outputs": [],
   "source": [
    "qua_config = machine.generate_config()"
   ]
  },
  {
   "cell_type": "markdown",
   "metadata": {},
   "source": [
    "Write the QUA program\n",
    "\n",
    "Modify the utilities script in order to handle the time parameter?"
   ]
  },
  {
   "cell_type": "code",
   "execution_count": 130,
   "metadata": {},
   "outputs": [],
   "source": [
    "with program() as EIT:\n",
    "    \n",
    "    with infinite_loop_():\n",
    "        \n",
    "        wait_for_trigger('AOM_double_repumper')\n",
    "        wait_for_trigger('AOM_double_cooler')\n",
    "        wait_for_trigger('AOM_single_repumper')\n",
    "        wait_for_trigger('AOM_single_cooler')\n",
    "\n",
    "        # # Heating pulses\n",
    "        # play('cooler_high_pulse_heating_single', 'AOM_single_cooler')\n",
    "        # play('cooler_high_pulse_heating_double', 'AOM_double_cooler')\n",
    "        # play('repump_high_pulse_heating_single', 'AOM_single_repumper')\n",
    "        # play('repump_high_pulse_heating_double', 'AOM_double_repumper')\n",
    "        \n",
    "        # EIT pulses\n",
    "        play('cooler_high_pulse_EIT_single', 'AOM_single_cooler')\n",
    "        play('cooler_high_pulse_EIT_double', 'AOM_double_cooler')\n",
    "        play('repump_high_pulse_EIT_single', 'AOM_single_repumper')\n",
    "        play('repump_high_pulse_EIT_double', 'AOM_double_repumper')"
   ]
  },
  {
   "cell_type": "markdown",
   "metadata": {},
   "source": [
    "Open the machine, load the state and run the program"
   ]
  },
  {
   "cell_type": "code",
   "execution_count": 131,
   "metadata": {},
   "outputs": [
    {
     "name": "stdout",
     "output_type": "stream",
     "text": [
      "2024-12-19 10:44:24,868 - qm - INFO     - Performing health check\n",
      "2024-12-19 10:44:24,879 - qm - INFO     - Health check passed\n"
     ]
    }
   ],
   "source": [
    "ip_address = '130.79.148.167'\n",
    "qmm = QuantumMachinesManager(host=ip_address)"
   ]
  },
  {
   "cell_type": "code",
   "execution_count": 132,
   "metadata": {},
   "outputs": [
    {
     "name": "stdout",
     "output_type": "stream",
     "text": [
      "2024-12-19 10:44:25,002 - qm - WARNING  - Open QM ended with warning 0: Opening a new Quantum Machine and closing Quantum Machines: \n",
      "2024-12-19 10:44:25,003 - qm - WARNING  - Open QM ended with warning 0: Quantum Machine qm-1734601360399 is canceling running job 1734512114420.\n",
      "2024-12-19 10:44:25,036 - qm - INFO     - Sending program to QOP for compilation\n",
      "2024-12-19 10:44:25,145 - qm - INFO     - Executing program\n"
     ]
    }
   ],
   "source": [
    "%matplotlib qt\n",
    "\n",
    "Simulation = False\n",
    "\n",
    "if Simulation == True:\n",
    "\n",
    "    start_time = time.time()\n",
    "    simulated_job = qmm.simulate(qua_config, EIT, SimulationConfig(duration=int(400*1e3/4)))\n",
    "    end_time = time.time()\n",
    "    print(f\"Simulation time: {end_time - start_time} s\")\n",
    "\n",
    "    # get DAC and digital samples\n",
    "    samples = simulated_job.get_simulated_samples()\n",
    "    plt.figure()\n",
    "    plt.plot(samples.con1.analog[\"1\"], \"--\", label=\"sg_repumper\")\n",
    "    plt.plot(samples.con1.analog[\"2\"], \"-\", label=\"db_repumper\")\n",
    "    #plt.plot(samples.con1.analog[\"3\"], \"--\", label=\"sg_cooler\")\n",
    "    #plt.plot(samples.con1.analog[\"4\"], \"-\", label=\"db_cooler\")\n",
    "    plt.plot(samples.con1.analog[\"5\"], \"-\", label=\"tweezer_mod\")\n",
    "    #plt.plot(samples.con1.analog[\"6\"], \"-\", label=\"tweezer_beat\")\n",
    "    plt.legend()\n",
    "    plt.xlabel(\"Time [ns]\")\n",
    "    plt.ylabel(\"Signal [V]\")        \n",
    "    plt.show()\n",
    "else:\n",
    "    qm = qmm.open_qm(qua_config)\n",
    "    job = qm.execute(EIT)"
   ]
  },
  {
   "cell_type": "code",
   "execution_count": null,
   "metadata": {},
   "outputs": [],
   "source": []
  },
  {
   "cell_type": "code",
   "execution_count": 133,
   "metadata": {},
   "outputs": [
    {
     "data": {
      "text/plain": [
       "True"
      ]
     },
     "execution_count": 133,
     "metadata": {},
     "output_type": "execute_result"
    }
   ],
   "source": [
    "job.halt()"
   ]
  },
  {
   "cell_type": "code",
   "execution_count": null,
   "metadata": {},
   "outputs": [],
   "source": []
  }
 ],
 "metadata": {
  "kernelspec": {
   "display_name": "eqm-lab",
   "language": "python",
   "name": "python3"
  },
  "language_info": {
   "codemirror_mode": {
    "name": "ipython",
    "version": 3
   },
   "file_extension": ".py",
   "mimetype": "text/x-python",
   "name": "python",
   "nbconvert_exporter": "python",
   "pygments_lexer": "ipython3",
   "version": "3.10.11"
  }
 },
 "nbformat": 4,
 "nbformat_minor": 2
}
