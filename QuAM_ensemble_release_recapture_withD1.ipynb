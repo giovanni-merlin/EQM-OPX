{
 "cells": [
  {
   "cell_type": "markdown",
   "metadata": {},
   "source": [
    "OPX sequence for release and recapture with additional D1 light. Fixed release time, no collision."
   ]
  },
  {
   "cell_type": "code",
   "execution_count": 217,
   "metadata": {},
   "outputs": [],
   "source": [
    "from qm.qua import *\n",
    "from qm import QuantumMachinesManager, SimulationConfig\n",
    "from quam.components import BasicQuAM, SingleChannel\n",
    "from quam.components.pulses import SquarePulse\n",
    "from qualang_tools.units import unit\n",
    "from QuAM_utilities import *\n",
    "\n",
    "import matplotlib.pyplot as plt\n",
    "import time\n",
    "\n",
    "u = unit() "
   ]
  },
  {
   "cell_type": "code",
   "execution_count": 218,
   "metadata": {},
   "outputs": [],
   "source": [
    "machine = BasicQuAM()\n",
    "\n",
    "# AOM RFs\n",
    "cool_double_rf = 200*u.MHz\n",
    "repump_double_rf = 200*u.MHz\n",
    "\n",
    "# TWEEZER LOADING\n",
    "tweez_central_freq = 75.1*u.MHz\n",
    "tweez_difference_freq = 15*u.MHz\n",
    "tweez_low_freq = tweez_central_freq - tweez_difference_freq/2\n",
    "tweez_high_freq = tweez_central_freq + tweez_difference_freq/2\n",
    "\n",
    "tweez_ramp_amplitude = 0.04\n",
    "tweez_ramp_time = 100*u.ms #\n",
    "tweez_plateau_amplitude = tweez_ramp_amplitude\n",
    "tweez_plateau_time = 150.15*u.ms #\n",
    "\n",
    "# D1 EIT\n",
    "D1_EIT_time = 15*u.ms\n",
    "tweez_square_amplitude_EIT = 0.04\n",
    "\n",
    "# GAP 1\n",
    "gap1_time = 5*u.ms #200*u.ns#\n",
    "\n",
    "# COLLISION\n",
    "coll_time = 80*u.ms #100*u.us #\n",
    "tweez_square_amplitude_coll = 0.15\n",
    "repump_square_amplitude_coll_double = 0.38 # fixed\n",
    "cool_square_amplitude_coll_double = 0.38 # fixed\n",
    "coll_modulation_frequency = 1.7*u.MHz\n",
    "tweez_duty_cycle = 0.4 # high fraction for tweezer\n",
    "rc_duty_cycle = 0.3 # high fraction for repumper and cooler\n",
    "rc_delay_fraction = 0.05 # delay for repumper and cooler (fraction of period) \n",
    "                        # the sum of the repumper/cooler duty cycles must be less than 1\n",
    "\n",
    "# GAP 2\n",
    "t_release = 0.1*u.us\n",
    "gap2_time = 5*u.ms\n",
    "\n",
    "# IMAGING\n",
    "# the duty cycle parameters are the same as for collision\n",
    "imag_time = 80*u.ms #\n",
    "tweez_square_amplitude_imag = 0.15\n",
    "repump_square_amplitude_imag_double = 0.38 # fixed\n",
    "cool_square_amplitude_imag_double = 0.38 # fixed\n",
    "\n",
    "# DELAY FOR IMAGING\n",
    "delay_imaging_time = 250.15*u.ms #\n",
    "\n",
    "# FOR CONTINUOUSLY DRIVEN AOMs: cooler/repumper single pass & two spots tweezers\n",
    "# this is for amplitude modulation\n",
    "continuous_time = 50*u.ms\n",
    "continuous_time_long_pulse = 1*u.s\n",
    "\n",
    "# collision\n",
    "repump_square_amplitude_coll_single = 0.065 #0.05\n",
    "cool_square_amplitude_coll_single = 0.12 #0.07\n",
    "\n",
    "# imaging\n",
    "repump_square_amplitude_imag_single = 0.06         \n",
    "cool_square_amplitude_imag_single = 0.06\n",
    "spot_amplitude1 = 0.38 # fixed\n",
    "spot_amplitude2 = 0.38 # fixed"
   ]
  },
  {
   "cell_type": "code",
   "execution_count": 221,
   "metadata": {},
   "outputs": [
    {
     "name": "stdout",
     "output_type": "stream",
     "text": [
      "\n",
      " Number of steps for the tweezer ramp: 2500000, each of 40.0 ns\n",
      "Number of plateau portions: 15015\n",
      "Number of collision periods: 136000\n",
      "Number of imaging periods: 136000 \n",
      "\n",
      "Low duration for tweezer: 352ns\n",
      "High duration for tweezer: 236ns\n",
      "Total: 588ns \n",
      "\n",
      "Delay duration for repumper/cooler: 28ns\n",
      "High duration for repumper/cooler: 176ns\n",
      "Low duration for repumper/cooler: 384ns\n",
      "Total: 588ns \n",
      "\n"
     ]
    }
   ],
   "source": [
    "# additional dependent variables useful for pulse definition\n",
    "# NB: the time durations must be multiples of the clock cycle!\n",
    "\n",
    "# these are not used in the function, but are printed for debug\n",
    "tweez_ramp_step_time = 40*u.ns\n",
    "n_steps = round(tweez_ramp_time/tweez_ramp_step_time)\n",
    "plateau_intermediate_duration = 10*u.us\n",
    "plateau_num_portions = round(tweez_plateau_time/plateau_intermediate_duration)\n",
    "\n",
    "# these are in seconds, multiply by u.s before passing as arguments\n",
    "coll_modulation_period = 1/coll_modulation_frequency\n",
    "tweez_high_time = 1/coll_modulation_frequency*tweez_duty_cycle\n",
    "tweez_low_time = 1/coll_modulation_frequency*(1-tweez_duty_cycle)\n",
    "rc_high_time = 1/coll_modulation_frequency*rc_duty_cycle\n",
    "rc_delay_time = 1/coll_modulation_frequency*rc_delay_fraction\n",
    "rc_low_time = coll_modulation_period-rc_delay_time-rc_high_time\n",
    "number_of_periods_collision = round(coll_time/(coll_modulation_period*u.s)) # used as argument\n",
    "\n",
    "imag_modulation_period = coll_modulation_period\n",
    "\n",
    "number_of_periods_imaging = round(imag_time/(imag_modulation_period*u.s)) # used as argument\n",
    "\n",
    "# for debugging\n",
    "print(f\"\\n Number of steps for the tweezer ramp: {n_steps}, each of {tweez_ramp_step_time} ns\")\n",
    "print(f\"Number of plateau portions: {plateau_num_portions}\")\n",
    "print(\"Number of collision periods:\", number_of_periods_collision)\n",
    "print(\"Number of imaging periods:\", number_of_periods_imaging, \"\\n\")\n",
    "print(f\"Low duration for tweezer: {round(tweez_low_time*u.s/4)*4}ns\")\n",
    "print(f\"High duration for tweezer: {round(tweez_high_time*u.s/4)*4}ns\")\n",
    "print(f\"Total: {round(tweez_low_time*1e9/4)*4 + round(tweez_high_time*u.s/4)*4}ns \\n\")\n",
    "print(f\"Delay duration for repumper/cooler: {round(rc_delay_time*u.s/4)*4}ns\")\n",
    "print(f\"High duration for repumper/cooler: {round(rc_high_time*u.s/4)*4}ns\")\n",
    "print(f\"Low duration for repumper/cooler: {round(rc_low_time*u.s/4)*4}ns\")\n",
    "print(f\"Total: {round(rc_delay_time*u.s/4)*4 + round(rc_low_time*u.s/4)*4 + round(rc_high_time*u.s/4)*4}ns \\n\")\n",
    "\n",
    "# add a warning if the durations are not the same"
   ]
  },
  {
   "cell_type": "code",
   "execution_count": 222,
   "metadata": {},
   "outputs": [],
   "source": [
    "machine.channels['AOM_single_repumper'] = AOM_single_repumper = SingleChannel(opx_output=('con1', 1), intermediate_frequency=200e6)\n",
    "machine.channels['AOM_double_repumper'] = AOM_double_repumper = SingleChannel(opx_output=('con1', 2), intermediate_frequency=repump_double_rf)\n",
    "machine.channels['AOM_single_cooler'] = AOM_single_cooler = SingleChannel(opx_output=('con1', 3), intermediate_frequency=200e6)\n",
    "machine.channels['AOM_double_cooler'] = AOM_double_cooler = SingleChannel(opx_output=('con1', 4), intermediate_frequency=cool_double_rf)\n",
    "machine.channels['AOM_tweez_mod'] = AOM_tweez_mod = SingleChannel(opx_output=('con1', 5), intermediate_frequency=89.161e6) # for tweezer modulation\n",
    "machine.channels['AOM_tweez_spots1'] = AOM_tweez_spots1 = SingleChannel(opx_output=('con1', 6), intermediate_frequency=tweez_high_freq) # first component for generating two spots\n",
    "machine.channels['AOM_tweez_spots2'] = AOM_tweez_spots2 = SingleChannel(opx_output=('con1', 6), intermediate_frequency=tweez_low_freq) # second component for generating two spots\n",
    "\n",
    "AOM_single_repumper.operations['repump_continuous_coll'] = SquarePulse(length=round(continuous_time/4)*4, amplitude=repump_square_amplitude_coll_single)\n",
    "AOM_single_repumper.operations['repump_continuous_imag'] = SquarePulse(length=round(continuous_time/4)*4, amplitude=repump_square_amplitude_imag_single)\n",
    "AOM_single_cooler.operations['cool_continuous_coll'] = SquarePulse(length=round(continuous_time/4)*4, amplitude=cool_square_amplitude_coll_single)\n",
    "AOM_single_cooler.operations['cool_continuous_imag'] = SquarePulse(length=round(continuous_time/4)*4, amplitude=cool_square_amplitude_imag_single)\n",
    "\n",
    "AOM_double_repumper.operations['repump_high_pulse_coll'] = SquarePulse(length=round(rc_high_time*u.s/4)*4, amplitude=repump_square_amplitude_coll_double)\n",
    "AOM_double_repumper.operations['repump_high_pulse_imag'] = SquarePulse(length=round(rc_high_time*u.s/4)*4, amplitude=repump_square_amplitude_imag_double)\n",
    "AOM_double_repumper.operations['repump_low_pulse'] = SquarePulse(length=round(rc_low_time*u.s/4)*4, amplitude=0)\n",
    "AOM_double_cooler.operations['cool_high_pulse_coll'] = SquarePulse(length=round(rc_high_time*u.s/4)*4, amplitude=cool_square_amplitude_coll_double)\n",
    "AOM_double_cooler.operations['cool_high_pulse_imag'] = SquarePulse(length=round(rc_high_time*u.s/4)*4, amplitude=cool_square_amplitude_imag_double)\n",
    "AOM_double_cooler.operations['cool_low_pulse'] = cool_low_pulse = SquarePulse(length=round(rc_low_time*u.s/4)*4, amplitude=0)\n",
    "\n",
    "AOM_tweez_mod.operations['tweez_step_pulse'] = tweez_step_pulse = SquarePulse(length=round(tweez_ramp_step_time/4)*4, amplitude=tweez_ramp_amplitude) \n",
    "AOM_tweez_mod.operations['tweez_plateau_pulse'] = SquarePulse(length=100, amplitude=tweez_plateau_amplitude) # this value is overridden by the time/slice value\n",
    "AOM_tweez_mod.operations['tweez_high_pulse_coll'] = SquarePulse(length=round(tweez_high_time*u.s/4)*4, amplitude=tweez_square_amplitude_coll)\n",
    "AOM_tweez_mod.operations['tweez_high_pulse_imag'] = SquarePulse(length=round(tweez_high_time*u.s/4)*4, amplitude=tweez_square_amplitude_imag)\n",
    "AOM_tweez_mod.operations['tweez_high_pulse_EIT'] = SquarePulse(length=round(D1_EIT_time/4)*4, amplitude=tweez_square_amplitude_EIT)\n",
    "AOM_tweez_mod.operations['tweez_low_pulse'] = SquarePulse(length=round(tweez_low_time*u.s/4)*4, amplitude=0)\n",
    "\n",
    "#AOM_tweez_spots1.operations['tweez_continuous'] = SquarePulse(length=round(continuous_time/4)*4, amplitude=spot_amplitude1)\n",
    "#AOM_tweez_spots2.operations['tweez_continuous'] = SquarePulse(length=round(continuous_time/4)*4, amplitude=spot_amplitude2)\n",
    "AOM_tweez_spots1.operations['tweez_continuous'] = SquarePulse(length=100, amplitude=spot_amplitude1)\n",
    "AOM_tweez_spots2.operations['tweez_continuous'] = SquarePulse(length=100, amplitude=spot_amplitude2)\n"
   ]
  },
  {
   "cell_type": "code",
   "execution_count": 223,
   "metadata": {},
   "outputs": [],
   "source": [
    "qua_config = machine.generate_config()"
   ]
  },
  {
   "cell_type": "markdown",
   "metadata": {},
   "source": [
    "Write the QUA program"
   ]
  },
  {
   "cell_type": "code",
   "execution_count": 225,
   "metadata": {},
   "outputs": [],
   "source": [
    "with program() as ensemble_release:\n",
    "\n",
    "    with infinite_loop_():\n",
    "        AOM_tweez_spots1.play(\"tweez_continuous\") \n",
    "        AOM_tweez_spots2.play(\"tweez_continuous\")\n",
    "    \n",
    "    with infinite_loop_():\n",
    "        wait_for_trigger('AOM_tweez_mod') \n",
    "        wait_for_trigger('AOM_double_repumper')\n",
    "        wait_for_trigger('AOM_double_cooler')\n",
    "        wait_for_trigger('AOM_single_repumper')\n",
    "        wait_for_trigger('AOM_single_cooler')\n",
    "\n",
    "        # atoms loading\n",
    "        long_ramp('tweez_step_pulse', 'AOM_tweez_mod', tweez_ramp_time)\n",
    "        long_pulse('tweez_plateau_pulse', 'AOM_tweez_mod', tweez_plateau_time)\n",
    "        align('AOM_tweez_mod', 'AOM_double_cooler', 'AOM_double_repumper','AOM_single_cooler','AOM_single_repumper')\n",
    "        \n",
    "        # gap1\n",
    "        play('tweez_step_pulse', 'AOM_tweez_mod', duration=round(gap1_time/4))\n",
    "        play('cool_low_pulse', 'AOM_double_cooler', duration=round(gap1_time/4))\n",
    "        play('repump_low_pulse', 'AOM_double_repumper', duration=round(gap1_time/4))\n",
    "    \n",
    "        long_pulse('cool_continuous_coll', 'AOM_single_cooler', D1_EIT_time+gap1_time)\n",
    "        long_pulse('repump_continuous_coll', 'AOM_single_repumper', D1_EIT_time+gap1_time)\n",
    "\n",
    "        # D1 light for cooling\n",
    "        play('tweez_high_pulse_EIT', 'AOM_tweez_mod', duration=round(D1_EIT_time/4))\n",
    "        play('cool_low_pulse', 'AOM_double_cooler', duration=round(D1_EIT_time/4))\n",
    "        play('repump_low_pulse', 'AOM_double_repumper', duration=round(D1_EIT_time/4))\n",
    "        #play('cool_high_pulse_coll', 'AOM_double_cooler', duration=round(D1_EIT_time/4))\n",
    "        #play('repump_high_pulse_coll', 'AOM_double_repumper', duration=round(D1_EIT_time/4))\n",
    "\n",
    "        #gap2\n",
    "        play('tweez_step_pulse', 'AOM_tweez_mod', duration=round((gap2_time-t_release)/4))\n",
    "        play('tweez_low_pulse', 'AOM_tweez_mod', duration=round(t_release/4))\n",
    "        play('cool_low_pulse', 'AOM_double_cooler', duration=round((gap2_time)/4))\n",
    "        play('repump_low_pulse', 'AOM_double_repumper', duration=round((gap2_time)/4))\n",
    "\n",
    "        long_pulse('cool_continuous_imag', 'AOM_single_cooler', gap2_time+imag_time)\n",
    "        long_pulse('repump_continuous_imag', 'AOM_single_repumper', gap2_time+imag_time)\n",
    "\n",
    "        # imaging\n",
    "        stroboscopic(('tweez_low_pulse','tweez_high_pulse_imag'), 'AOM_tweez_mod', number_of_periods_imaging)\n",
    "        stroboscopic(('repump_high_pulse_imag','repump_low_pulse'), 'AOM_double_repumper', number_of_periods_imaging, rc_delay_time)\n",
    "        stroboscopic(('cool_high_pulse_imag','cool_low_pulse'), 'AOM_double_cooler', number_of_periods_imaging, rc_delay_time)\n",
    "\n",
    "        # delay for image\n",
    "        long_pulse('tweez_high_pulse_imag', 'AOM_tweez_mod', delay_imaging_time)\n",
    "        long_pulse('cool_low_pulse', 'AOM_double_cooler', delay_imaging_time)\n",
    "        long_pulse('repump_low_pulse', 'AOM_double_repumper', delay_imaging_time)\n",
    "\n",
    "        long_pulse('cool_continuous_imag', 'AOM_single_cooler', delay_imaging_time + imag_time)\n",
    "        long_pulse('repump_continuous_imag', 'AOM_single_repumper', delay_imaging_time + imag_time)\n",
    "                \n",
    "        # imaging\n",
    "        stroboscopic(('tweez_low_pulse','tweez_high_pulse_imag'), 'AOM_tweez_mod', number_of_periods_imaging)\n",
    "        stroboscopic(('cool_high_pulse_imag','cool_low_pulse'), 'AOM_double_cooler', number_of_periods_imaging, rc_delay_time)\n",
    "        stroboscopic(('repump_high_pulse_imag','repump_low_pulse'), 'AOM_double_repumper', number_of_periods_imaging, rc_delay_time)\n"
   ]
  },
  {
   "cell_type": "markdown",
   "metadata": {},
   "source": [
    "Open the machine, load the state and run the program"
   ]
  },
  {
   "cell_type": "code",
   "execution_count": 227,
   "metadata": {},
   "outputs": [
    {
     "name": "stdout",
     "output_type": "stream",
     "text": [
      "2024-12-16 17:39:36,474 - qm - DEBUG    - Probing gateway at: 130.79.148.167:80\n",
      "2024-12-16 17:39:37,528 - qm - DEBUG    - Connection redirected from '130.79.148.167:80' to '130.79.148.167:10010'\n",
      "2024-12-16 17:39:37,586 - qm - DEBUG    - Established connection to 130.79.148.167:10010\n",
      "2024-12-16 17:39:37,587 - qm - DEBUG    - Gateway discovered at: 130.79.148.167:80\n",
      "2024-12-16 17:39:37,723 - qm - INFO     - Performing health check\n",
      "2024-12-16 17:39:37,736 - qm - INFO     - Health check passed\n"
     ]
    }
   ],
   "source": [
    "ip_address = '130.79.148.167'\n",
    "qmm = QuantumMachinesManager(host=ip_address, log_level='DEBUG')\n"
   ]
  },
  {
   "cell_type": "code",
   "execution_count": 228,
   "metadata": {},
   "outputs": [
    {
     "name": "stdout",
     "output_type": "stream",
     "text": [
      "2024-12-16 17:39:39,229 - qm - WARNING  - Open QM ended with warning 0: Opening a new Quantum Machine and closing Quantum Machines: \n",
      "2024-12-16 17:39:39,230 - qm - WARNING  - Open QM ended with warning 0: Quantum Machine qm-1734367077538 is canceling running job 1730223365056.\n",
      "2024-12-16 17:39:39,239 - qm - INFO     - Sending program to QOP for compilation\n",
      "2024-12-16 17:39:40,321 - qm - INFO     - Executing program\n"
     ]
    }
   ],
   "source": [
    "%matplotlib qt\n",
    "\n",
    "Simulation = False\n",
    "\n",
    "if Simulation == True:\n",
    "\n",
    "    start_time = time.time()\n",
    "    simulated_job = qmm.simulate(qua_config, ensemble_release, SimulationConfig(duration=int(20000/4)))\n",
    "    end_time = time.time()\n",
    "    print(f\"Simulation time: {end_time - start_time} s\")\n",
    "\n",
    "    # get DAC and digital samples\n",
    "    samples = simulated_job.get_simulated_samples()\n",
    "    plt.figure()\n",
    "    #plt.plot(samples.con1.analog[\"1\"], \"--\", label=\"sg_repumper\")\n",
    "    #plt.plot(samples.con1.analog[\"2\"], \"-\", label=\"db_repumper\")\n",
    "    #plt.plot(samples.con1.analog[\"3\"], \"--\", label=\"sg_cooler\")\n",
    "    #plt.plot(samples.con1.analog[\"4\"], \"-\", label=\"db_cooler\")\n",
    "    plt.plot(samples.con1.analog[\"5\"], \"-\", label=\"tweezer_mod\")\n",
    "    #plt.plot(samples.con1.analog[\"6\"], \"-\", label=\"tweezer_beat\")\n",
    "    plt.legend()\n",
    "    plt.xlabel(\"Time [ns]\")\n",
    "    plt.ylabel(\"Signal [V]\") \n",
    "    plt.show()\n",
    "else:\n",
    "    qm = qmm.open_qm(qua_config)\n",
    "    job = qm.execute(ensemble_release)"
   ]
  },
  {
   "cell_type": "code",
   "execution_count": null,
   "metadata": {},
   "outputs": [],
   "source": []
  },
  {
   "cell_type": "code",
   "execution_count": 38,
   "metadata": {},
   "outputs": [
    {
     "data": {
      "text/plain": [
       "Execution report for job 1730223364894\n",
       "No errors"
      ]
     },
     "execution_count": 38,
     "metadata": {},
     "output_type": "execute_result"
    }
   ],
   "source": [
    "simulated_job.execution_report()"
   ]
  },
  {
   "cell_type": "code",
   "execution_count": 229,
   "metadata": {},
   "outputs": [
    {
     "data": {
      "text/plain": [
       "True"
      ]
     },
     "execution_count": 229,
     "metadata": {},
     "output_type": "execute_result"
    }
   ],
   "source": [
    "job.halt()"
   ]
  },
  {
   "cell_type": "code",
   "execution_count": null,
   "metadata": {},
   "outputs": [],
   "source": []
  },
  {
   "cell_type": "code",
   "execution_count": null,
   "metadata": {},
   "outputs": [],
   "source": []
  }
 ],
 "metadata": {
  "kernelspec": {
   "display_name": "eqm-lab",
   "language": "python",
   "name": "python3"
  },
  "language_info": {
   "codemirror_mode": {
    "name": "ipython",
    "version": 3
   },
   "file_extension": ".py",
   "mimetype": "text/x-python",
   "name": "python",
   "nbconvert_exporter": "python",
   "pygments_lexer": "ipython3",
   "version": "3.10.11"
  }
 },
 "nbformat": 4,
 "nbformat_minor": 2
}
